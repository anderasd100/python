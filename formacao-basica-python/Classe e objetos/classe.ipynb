{
 "cells": [
  {
   "cell_type": "code",
   "execution_count": 1,
   "metadata": {},
   "outputs": [],
   "source": [
    "class Carro:\n",
    "    # Atributos\n",
    "    def __init__(self, modelo, cor):\n",
    "        self.modelo = modelo  # Atributo 'modelo'\n",
    "        self.cor = cor        # Atributo 'cor'\n",
    "\n",
    "    # Método\n",
    "    def ligar(self):\n",
    "        print(f'O {self.modelo} de cor {self.cor} está ligado!')\n",
    "\n",
    "    def desligar(self):\n",
    "        print(f'O {self.modelo} de cor {self.cor} está desligado!')"
   ]
  }
 ],
 "metadata": {
  "kernelspec": {
   "display_name": ".venv",
   "language": "python",
   "name": "python3"
  },
  "language_info": {
   "codemirror_mode": {
    "name": "ipython",
    "version": 3
   },
   "file_extension": ".py",
   "mimetype": "text/x-python",
   "name": "python",
   "nbconvert_exporter": "python",
   "pygments_lexer": "ipython3",
   "version": "3.13.1"
  }
 },
 "nbformat": 4,
 "nbformat_minor": 2
}
