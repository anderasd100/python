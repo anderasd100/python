{
 "cells": [
  {
   "cell_type": "code",
   "execution_count": 16,
   "metadata": {},
   "outputs": [],
   "source": [
    "#Uma classe em Python é uma ótima maneira de ter coleções de funções e atributos rotulados e organizados.\n",
    "\n",
    "# Classe =  projeto Arquitetônico de um escritório\n",
    "# Objeto = O escritório\n",
    "\n",
    "class Escri:\n",
    "    def __init__(self): # É uma função especial que estabele o estado inicial do objeto, informando seus atributos.\n",
    "        self.movel = 4\n",
    "        self.cor = 'verde'\n",
    "        self.nome= 'Arq Patricia'\n",
    "\n",
    "        def material(self):\n",
    "            print(self.nome + ' é um escritório grande')\n",
    "\n",
    "meu_escritorio = Escri()\n",
    "\n",
    "vizinho_escritorio = Escri()"
   ]
  }
 ],
 "metadata": {
  "kernelspec": {
   "display_name": ".venv",
   "language": "python",
   "name": "python3"
  },
  "language_info": {
   "codemirror_mode": {
    "name": "ipython",
    "version": 3
   },
   "file_extension": ".py",
   "mimetype": "text/x-python",
   "name": "python",
   "nbconvert_exporter": "python",
   "pygments_lexer": "ipython3",
   "version": "3.13.1"
  }
 },
 "nbformat": 4,
 "nbformat_minor": 2
}
