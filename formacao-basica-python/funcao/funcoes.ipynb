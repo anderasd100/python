{
 "cells": [
  {
   "cell_type": "code",
   "execution_count": 2,
   "metadata": {},
   "outputs": [],
   "source": [
    "def multporcinco(numero):\n",
    "    return num * 5\n",
    "\n",
    "\n",
    "#Exemplo de função que recebe mais de um argumento:\n",
    "def somnum(num1, num2):\n",
    "    return num1 + num2\n",
    "\n",
    "somnum(6,3)\n",
    "\n",
    "def retiraultimoElementoLista(lista):\n",
    "    lista.pop() # A função POP retira o último argumento da lista\n",
    "\n",
    "    centenas = [100,200,300,400,700,777]\n",
    "\n",
    "    retiraultimoElementoLista(centenas)\n",
    "\n",
    "    \n",
    "    print(centenas)"
   ]
  }
 ],
 "metadata": {
  "kernelspec": {
   "display_name": ".venv",
   "language": "python",
   "name": "python3"
  },
  "language_info": {
   "codemirror_mode": {
    "name": "ipython",
    "version": 3
   },
   "file_extension": ".py",
   "mimetype": "text/x-python",
   "name": "python",
   "nbconvert_exporter": "python",
   "pygments_lexer": "ipython3",
   "version": "3.13.1"
  }
 },
 "nbformat": 4,
 "nbformat_minor": 2
}
