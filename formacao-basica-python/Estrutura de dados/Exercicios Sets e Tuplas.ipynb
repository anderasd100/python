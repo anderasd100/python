{
 "cells": [
  {
   "cell_type": "code",
   "execution_count": null,
   "metadata": {},
   "outputs": [],
   "source": [
    "#Exercicios SETS e TUPLAS\n",
    "\n",
    "\"\"\" Sintaxe:\n",
    "Tuplas: São definidas com parênteses ().\n",
    "\n",
    "tupla = (1, 2, 3, 4)\n",
    "\n",
    "Sets: São definidos com chaves {} ou pela função set().\n",
    "\n",
    "conjunto = {1, 2, 3, 4} \"\"\""
   ]
  }
 ],
 "metadata": {
  "language_info": {
   "name": "python"
  }
 },
 "nbformat": 4,
 "nbformat_minor": 2
}
