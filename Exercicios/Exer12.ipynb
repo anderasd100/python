{
 "cells": [
  {
   "cell_type": "code",
   "execution_count": 2,
   "metadata": {},
   "outputs": [
    {
     "name": "stdout",
     "output_type": "stream",
     "text": [
      "Emprestimo CONCEDIDO!!!\n"
     ]
    }
   ],
   "source": [
    "#Leia o salario de um trabalhador e o valor da prestacao de um emprestimo. Se a\n",
    "#prestacao for maior que 20% do salario imprima: Emprestimo nao concedido, caso\n",
    "#contrario imprima: Emprestimo concedido.\n",
    "\n",
    "sal = float(input(\"Informe seu salário: \"))\n",
    "prest = float(input(\"Informe o valor das parcelas: \"))\n",
    "\n",
    "if prest > 0.20 * sal:\n",
    "    print(\"Empréstimo não concedido!!!\")\n",
    "else:\n",
    "    print(\"Emprestimo CONCEDIDO!!!\")"
   ]
  }
 ],
 "metadata": {
  "kernelspec": {
   "display_name": ".venv",
   "language": "python",
   "name": "python3"
  },
  "language_info": {
   "codemirror_mode": {
    "name": "ipython",
    "version": 3
   },
   "file_extension": ".py",
   "mimetype": "text/x-python",
   "name": "python",
   "nbconvert_exporter": "python",
   "pygments_lexer": "ipython3",
   "version": "3.13.1"
  }
 },
 "nbformat": 4,
 "nbformat_minor": 2
}
