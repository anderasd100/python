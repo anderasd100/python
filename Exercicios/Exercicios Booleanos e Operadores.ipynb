{
 "cells": [
  {
   "cell_type": "code",
   "execution_count": 2,
   "metadata": {},
   "outputs": [
    {
     "name": "stdout",
     "output_type": "stream",
     "text": [
      "False\n",
      "True\n",
      "False\n"
     ]
    }
   ],
   "source": [
    "\"\"\"Exercício 1: Operações Básicas com Booleanos\n",
    "Crie duas variáveis a e b, com valores True e False, respectivamente.\n",
    "Crie uma expressão booleana utilizando os operadores and, or e not, e imprima o resultado de cada uma delas.\n",
    "Exemplo de operações:\n",
    "a and b\n",
    "a or b\n",
    "not a\n",
    "Exercício 2: Verificação de Idade\n",
    "Crie um programa que faça a seguinte verificação:\n",
    "\n",
    "Pergunte ao usuário a idade dele.\n",
    "Use um operador lógico para verificar se ele é maior de 18 anos e se tem permissão para dirigir (exemplo: uma variável tem_permissao).\n",
    "Imprima True se ele puder dirigir (maior de 18 anos e com permissão), e False caso contrário.\n",
    "Exercício 3: Condições Múltiplas\n",
    "Crie uma variável booleana tem_energia que representa se uma pessoa está cansada ou não (use True ou False).\n",
    "\n",
    "Crie outra variável booleana estudando que indica se a pessoa está estudando ou não.\n",
    "Use um operador lógico para verificar:\n",
    "Se a pessoa está estudando e tem energia, imprima \"Você pode estudar!\".\n",
    "Se não está estudando ou não tem energia, imprima \"Descanso é importante!\".\n",
    "Exercício 4: Verificação de Paridade\n",
    "Crie uma função que recebe um número e retorna True se o número for par, e False caso contrário. Para isso, utilize o operador de módulo (%) e operadores lógicos.\n",
    "\n",
    "Implemente a função verifica_paridade(n) onde:\n",
    "Se n % 2 == 0, retorna True (número par).\n",
    "Caso contrário, retorna False (número ímpar).\n",
    "Exercício 5: Verificação de Intervalo\n",
    "Crie uma variável idade e verifique se ela está no intervalo entre 18 e 25 anos (inclusive).\n",
    "\n",
    "Se a idade estiver nesse intervalo, imprima \"Faixa etária permitida\".\n",
    "Se a idade for menor que 18 ou maior que 25, imprima \"Faixa etária fora do permitido\".\"\"\"\n",
    "\n",
    "a =  True\n",
    "b =  False\n",
    "print(a and b)\n",
    "print(a or b)\n",
    "print(not a)\n"
   ]
  },
  {
   "cell_type": "code",
   "execution_count": 4,
   "metadata": {},
   "outputs": [],
   "source": [
    "def idade():\n",
    "    id = int(input(\"Informe sua idade: \"))\n",
    "    if id >= 18:\n",
    "        print(True)\n",
    "    else:\n",
    "        print(False)"
   ]
  },
  {
   "cell_type": "code",
   "execution_count": 5,
   "metadata": {},
   "outputs": [
    {
     "name": "stdout",
     "output_type": "stream",
     "text": [
      "True\n"
     ]
    }
   ],
   "source": [
    "idade()"
   ]
  },
  {
   "cell_type": "code",
   "execution_count": 7,
   "metadata": {},
   "outputs": [],
   "source": [
    "def par_impar():\n",
    "    numero = int(input(\"Informe um número: \"))\n",
    "    if (numero % 2 == 0):\n",
    "        print(True, \"número é par!\")\n",
    "    else:\n",
    "        print(False, \"número é impar!\")"
   ]
  },
  {
   "cell_type": "code",
   "execution_count": 9,
   "metadata": {},
   "outputs": [
    {
     "name": "stdout",
     "output_type": "stream",
     "text": [
      "False número é impar!\n"
     ]
    }
   ],
   "source": [
    "par_impar()"
   ]
  },
  {
   "cell_type": "code",
   "execution_count": 10,
   "metadata": {},
   "outputs": [],
   "source": [
    "def faixaetaria():\n",
    "    idade = int(input(\"Digite sua idade: \"))\n",
    "    if idade >= 18 and idade <= 25:\n",
    "        print(\"Faixa etária permitida\")\n",
    "    else:\n",
    "        print(\"Faixa etária fora do permitido\")\n"
   ]
  },
  {
   "cell_type": "code",
   "execution_count": 11,
   "metadata": {},
   "outputs": [
    {
     "name": "stdout",
     "output_type": "stream",
     "text": [
      "Faixa etária fora do permitido\n"
     ]
    }
   ],
   "source": [
    "faixaetaria()"
   ]
  }
 ],
 "metadata": {
  "kernelspec": {
   "display_name": "consumers_env",
   "language": "python",
   "name": "python3"
  },
  "language_info": {
   "codemirror_mode": {
    "name": "ipython",
    "version": 3
   },
   "file_extension": ".py",
   "mimetype": "text/x-python",
   "name": "python",
   "nbconvert_exporter": "python",
   "pygments_lexer": "ipython3",
   "version": "3.13.1"
  }
 },
 "nbformat": 4,
 "nbformat_minor": 2
}
