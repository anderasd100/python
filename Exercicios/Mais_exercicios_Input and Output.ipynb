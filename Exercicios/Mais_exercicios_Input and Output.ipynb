{
 "cells": [
  {
   "cell_type": "code",
   "execution_count": 1,
   "metadata": {},
   "outputs": [
    {
     "name": "stdout",
     "output_type": "stream",
     "text": [
      "Olá: Anderson Abreu Rabelo\n"
     ]
    }
   ],
   "source": [
    "\"\"\"2. Input and Output\n",
    "Questão 1: Solicite ao usuário que digite seu nome e, em seguida, imprima a mensagem \"Olá, {nome}!\", substituindo {nome} pelo nome fornecido pelo usuário.\n",
    "\n",
    "Questão 2: Peça ao usuário para digitar a sua idade e exiba uma mensagem dizendo quantos anos ele(a) tem, como \"Você tem {idade} anos\".\n",
    "\n",
    "Questão 3: Solicite ao usuário dois números inteiros e imprima a soma desses números.\n",
    "\n",
    "Questão 4: Solicite ao usuário que digite seu peso (em quilos) e altura (em metros) e depois calcule e exiba o índice de massa corporal (IMC) com a fórmula: IMC = peso / (altura ** 2).\n",
    "\n",
    "Questão 5: Peça ao usuário para inserir um número e imprima \"O número digitado foi {número}\", substituindo {número} pelo número inserido.\n",
    "\n",
    "Questão 6: Solicite ao usuário para digitar três números e exiba a média desses números.\"\"\"\n",
    "\n",
    "nome = input(\"Informe seu nome completo: \")\n",
    "print(f\"Olá: {nome}\")"
   ]
  },
  {
   "cell_type": "code",
   "execution_count": 2,
   "metadata": {},
   "outputs": [
    {
     "name": "stdout",
     "output_type": "stream",
     "text": [
      "Você tem: 32 anos\n"
     ]
    }
   ],
   "source": [
    "idade = int(input(\"Informe sua idade:\"))\n",
    "print(f\"Você tem: {idade} anos\")"
   ]
  },
  {
   "cell_type": "code",
   "execution_count": 3,
   "metadata": {},
   "outputs": [
    {
     "name": "stdout",
     "output_type": "stream",
     "text": [
      "Soma: 163\n"
     ]
    }
   ],
   "source": [
    "num1 = int(input(\"Informe um número: \"))\n",
    "num2 = int(input(\"Informe um segundo número:\"))\n",
    "soma = num1 + num2\n",
    "print(\"Soma:\",soma)"
   ]
  },
  {
   "cell_type": "code",
   "execution_count": null,
   "metadata": {},
   "outputs": [
    {
     "name": "stdout",
     "output_type": "stream",
     "text": [
      "Seu indice de massa corporal é: 23.88\n"
     ]
    }
   ],
   "source": [
    "peso = int(input(\"Informe seu peso:\"))\n",
    "altura = float(input(\"Informe sua altura:\"))\n",
    "imc = peso / (altura ** 2)S\n",
    "print(\"Seu indice de massa corporal é:\", round(imc,2))"
   ]
  },
  {
   "cell_type": "code",
   "execution_count": 7,
   "metadata": {},
   "outputs": [
    {
     "name": "stdout",
     "output_type": "stream",
     "text": [
      "O número digitado foi: 77\n"
     ]
    }
   ],
   "source": [
    "num = int(input(\"Informe um número: \"))\n",
    "print(f\"O número digitado foi: {num}\")"
   ]
  },
  {
   "cell_type": "code",
   "execution_count": 8,
   "metadata": {},
   "outputs": [
    {
     "name": "stdout",
     "output_type": "stream",
     "text": [
      "A média dos números informados é: 16.0\n"
     ]
    }
   ],
   "source": [
    "num1 = int(input(\"Informe o primeiro número: \"))\n",
    "num2 = int(input(\"Informe o segundo número: \"))\n",
    "num3 = int(input(\"Informe o terceiro número: \"))\n",
    "media = num1 + num2 + num3 /2\n",
    "print(\"A média dos números informados é:\",media)"
   ]
  },
  {
   "cell_type": "code",
   "execution_count": null,
   "metadata": {},
   "outputs": [],
   "source": []
  }
 ],
 "metadata": {
  "kernelspec": {
   "display_name": "Python 3",
   "language": "python",
   "name": "python3"
  },
  "language_info": {
   "codemirror_mode": {
    "name": "ipython",
    "version": 3
   },
   "file_extension": ".py",
   "mimetype": "text/x-python",
   "name": "python",
   "nbconvert_exporter": "python",
   "pygments_lexer": "ipython3",
   "version": "3.13.1"
  }
 },
 "nbformat": 4,
 "nbformat_minor": 2
}
