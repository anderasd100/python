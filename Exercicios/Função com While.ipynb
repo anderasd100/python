{
 "cells": [
  {
   "cell_type": "code",
   "execution_count": 11,
   "metadata": {},
   "outputs": [],
   "source": [
    "\"\"\"Escreva um programa que leia um numero inteiro maior do que zero e devolva, na tela, a\n",
    " soma de todos os seus algarismos. Por exemplo, ao numero 251 correspondera o valor\n",
    " 8 (2 + 5 + 1). Se o numero lido nao for maior do que zero, o programa terminara com a\n",
    " mensagem “Numero invalido”.\"\"\"\n",
    "\n",
    "def maiorzero():\n",
    "    numero = int(input(\"Informe um número: \"))\n",
    "    soma = 0\n",
    "    while numero > 0:\n",
    "        algor = numero % 10\n",
    "        soma += algor\n",
    "        numero //= 10\n",
    "        print(f\"A soma dos algorismo é: {soma}\")\n",
    "\n",
    "        maiorzero()"
   ]
  }
 ],
 "metadata": {
  "kernelspec": {
   "display_name": "consumers_env",
   "language": "python",
   "name": "python3"
  },
  "language_info": {
   "codemirror_mode": {
    "name": "ipython",
    "version": 3
   },
   "file_extension": ".py",
   "mimetype": "text/x-python",
   "name": "python",
   "nbconvert_exporter": "python",
   "pygments_lexer": "ipython3",
   "version": "3.13.1"
  }
 },
 "nbformat": 4,
 "nbformat_minor": 2
}
