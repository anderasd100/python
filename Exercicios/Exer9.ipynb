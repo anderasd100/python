{
 "cells": [
  {
   "cell_type": "code",
   "execution_count": 11,
   "metadata": {},
   "outputs": [
    {
     "name": "stdout",
     "output_type": "stream",
     "text": [
      "O número maior é: 36985 a diferença existentes entre ambos é: 36860\n"
     ]
    }
   ],
   "source": [
    "#Escreva um programa que, dados dois numeros inteiros, mostre na tela o maior deles,\n",
    "#assim como a diferenca existente entre ambos.\n",
    "\n",
    "num = int(input(\"Informe um número: \"))\n",
    "num2 = int(input(\"Informe o segundo número: \"))\n",
    "if num > num2:\n",
    "    print(\"O número maior é:\",num, \"a diferença existentes entre ambos é:\", num - num2)\n",
    "else:\n",
    "    print(\"O número maior é:\",num2, \"a diferença existentes entre ambos é:\", num2 - num)"
   ]
  }
 ],
 "metadata": {
  "kernelspec": {
   "display_name": ".venv",
   "language": "python",
   "name": "python3"
  },
  "language_info": {
   "codemirror_mode": {
    "name": "ipython",
    "version": 3
   },
   "file_extension": ".py",
   "mimetype": "text/x-python",
   "name": "python",
   "nbconvert_exporter": "python",
   "pygments_lexer": "ipython3",
   "version": "3.13.1"
  }
 },
 "nbformat": 4,
 "nbformat_minor": 2
}
