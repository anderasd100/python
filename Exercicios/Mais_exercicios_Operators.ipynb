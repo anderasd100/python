{
 "cells": [
  {
   "cell_type": "code",
   "execution_count": 1,
   "metadata": {},
   "outputs": [
    {
     "name": "stdout",
     "output_type": "stream",
     "text": [
      "Soma: 11 \n",
      "Subtração: -1 \n",
      "Multiplicação: 30 \n",
      "divisão: 0.8333333333333334\n"
     ]
    }
   ],
   "source": [
    "\"\"\"4. Operators\n",
    "Questão 1: Crie duas variáveis, a e b, e atribua valores numéricos a elas. Em seguida, calcule e imprima a soma, subtração, multiplicação e divisão desses valores.\n",
    "\n",
    "Questão 2: Use o operador de módulo para calcular o resto da divisão de dois números. Exiba o resultado.\n",
    "\n",
    "Questão 3: Crie duas variáveis, x e y, e atribua valores inteiros a elas. Use o operador de potência (**) para calcular x elevado a y e exiba o resultado.\n",
    "\n",
    "Questão 4: Crie uma variável idade e atribua um valor numérico. Use o operador de incremento (+=) para adicionar 1 à idade e imprima o novo valor.\n",
    "\n",
    "Questão 5: Solicite ao usuário para digitar dois números e use o operador de comparação (==) para verificar se os dois números são iguais.\n",
    "\n",
    "Questão 6: Crie uma variável valor e atribua a ela um valor numérico. Use o operador de comparação (>) para verificar se o valor é maior que 10 e imprima o resultado da comparação (verdadeiro ou falso).\n",
    "\"\"\"\n",
    "\n",
    "num = int(input(\"Informe o primeiro valor: \"))\n",
    "num2 = int(input(\"Informe o segundo valor: \"))\n",
    "soma = num + num2\n",
    "sub = num - num2\n",
    "mult = num * num2\n",
    "div = num / num2\n",
    "print(\"Soma:\",soma,\"\\nSubtração:\",sub,\"\\nMultiplicação:\",mult,\"\\ndivisão:\",div)\n",
    "\n"
   ]
  },
  {
   "cell_type": "code",
   "execution_count": 2,
   "metadata": {},
   "outputs": [
    {
     "name": "stdout",
     "output_type": "stream",
     "text": [
      "Resto da divisão dos números informados é: 0\n"
     ]
    }
   ],
   "source": [
    "num = int(input(\"Informe o primeiro valor: \"))\n",
    "num2 = int(input(\"Informe o segundo valor: \"))\n",
    "resto = num % num2\n",
    "print(\"Resto da divisão dos números informados é:\",resto)"
   ]
  },
  {
   "cell_type": "code",
   "execution_count": 5,
   "metadata": {},
   "outputs": [
    {
     "name": "stdout",
     "output_type": "stream",
     "text": [
      "O número: 10 elevado a  2 é: 100\n"
     ]
    }
   ],
   "source": [
    "num = int(input(\"Informe o primeiro valor: \"))\n",
    "num2 = int(input(\"Informe o segundo valor: \"))\n",
    "exponen = num ** num2\n",
    "print(\"O número:\",num,\"elevado a \",num2,\"é:\",exponen)"
   ]
  },
  {
   "cell_type": "code",
   "execution_count": 8,
   "metadata": {},
   "outputs": [
    {
     "name": "stdout",
     "output_type": "stream",
     "text": [
      "Sua nova idade é: 33\n"
     ]
    }
   ],
   "source": [
    "idade = int(input(\"Informe sua idade:\"))\n",
    "idade  += 1\n",
    "print(\"Sua nova idade é:\",idade) "
   ]
  },
  {
   "cell_type": "code",
   "execution_count": 10,
   "metadata": {},
   "outputs": [
    {
     "name": "stdout",
     "output_type": "stream",
     "text": [
      "Númerosa iguais!!\n"
     ]
    }
   ],
   "source": [
    "num = int(input(\"Informe o primeiro valor: \"))\n",
    "num2 = int(input(\"Informe o segundo valor: \"))\n",
    "if num == num2:\n",
    "    print(\"Númerosa iguais!!\")\n",
    "else:\n",
    "    print(\"Números difeferentes!!\")"
   ]
  },
  {
   "cell_type": "code",
   "execution_count": 12,
   "metadata": {},
   "outputs": [
    {
     "name": "stdout",
     "output_type": "stream",
     "text": [
      "False\n"
     ]
    }
   ],
   "source": [
    "num = int(input(\"Informe o primeiro valor: \"))\n",
    "if num > 10:\n",
    "    print(True)\n",
    "else:\n",
    "    print(False)"
   ]
  },
  {
   "cell_type": "code",
   "execution_count": null,
   "metadata": {},
   "outputs": [],
   "source": []
  }
 ],
 "metadata": {
  "kernelspec": {
   "display_name": "Python 3",
   "language": "python",
   "name": "python3"
  },
  "language_info": {
   "codemirror_mode": {
    "name": "ipython",
    "version": 3
   },
   "file_extension": ".py",
   "mimetype": "text/x-python",
   "name": "python",
   "nbconvert_exporter": "python",
   "pygments_lexer": "ipython3",
   "version": "3.13.1"
  }
 },
 "nbformat": 4,
 "nbformat_minor": 2
}
