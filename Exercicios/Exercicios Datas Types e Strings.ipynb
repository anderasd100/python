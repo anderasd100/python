{
 "cells": [
  {
   "cell_type": "code",
   "execution_count": 1,
   "metadata": {},
   "outputs": [
    {
     "data": {
      "text/plain": [
       "'1. Data Types\\nExercício 1: Crie uma variável chamada numero e atribua o valor 5. Em seguida, crie outra variável chamada texto e atribua o valor \"Olá, Mundo!\". Exiba no console os tipos dessas variáveis.\\nExercício 2: Crie uma variável chamada flutuante e atribua o valor 3.14. Verifique e imprima se o tipo dessa variável é float.\\n\\n2. Casting\\nExercício 3: Crie uma variável chamada inteiro com valor 10 e uma variável chamada flutuante com valor 3.5. Faça o cast de flutuante para inteiro e exiba o resultado no console.\\nExercício 4: Receba um valor numérico em formato string (por exemplo, \"123\") e converta para o tipo inteiro. Em seguida, multiplique esse número por 2 e exiba o resultado.\\n\\n3. Strings\\nExercício 5: Crie uma variável chamada nome e atribua o seu nome como valor. Depois, crie uma outra variável chamada sobrenome e atribua o seu sobrenome. Concatene essas duas variáveis em uma única string e exiba no console.\\nExercício 6: Crie uma string qualquer e use a função len() para calcular o tamanho da string. Exiba o resultado.\\n\\n4. Slicing Strings\\nExercício 7: Crie uma string com o valor \"Python é incrível!\". Exiba apenas a palavra \"Python\" utilizando slicing.\\nExercício 8: Dada a string \"Aprendendo Python\", extraia e exiba os três primeiros caracteres da string.\\n\\n5. Modifying Strings\\nExercício 9: Crie uma variável frase com o valor \"Eu adoro Python!\". Substitua a palavra \"Python\" por \"programação\" e exiba o resultado.\\nExercício 10: Crie uma string com o valor \"Este é um exemplo\". Converta toda a string para letras maiúsculas e exiba o resultado.\\n\\n6. Escape Characters\\nExercício 11: Crie uma string que exiba a frase: O \"Python\" é uma linguagem divertida! utilizando escape characters.\\nExercício 12: Crie uma string que contenha uma nova linha e um tabulador. Exiba a string no console.\\n7. String Methods\\nExercício 13: Crie uma string com o valor \" python \". Use o método strip() para remover os espaços em branco do início e do final da string, e exiba o resultado.\\nExercício 14: Crie uma variável chamada frase com o valor \"Eu gosto de aprender Python\". Use o método replace() para substituir a palavra \"aprender\" por \"ensinar\" e exiba a nova frase.\\nExercício 15: Crie uma variável texto com o valor \"aprendendo Python\". Use o método upper() para transformar todas as letras em maiúsculas e exiba a string resultante.'"
      ]
     },
     "execution_count": 1,
     "metadata": {},
     "output_type": "execute_result"
    }
   ],
   "source": [
    "\"\"\"1. Data Types\n",
    "Exercício 1: Crie uma variável chamada numero e atribua o valor 5. Em seguida, crie outra variável chamada texto e atribua o valor \"Olá, Mundo!\". Exiba no console os tipos dessas variáveis.\n",
    "Exercício 2: Crie uma variável chamada flutuante e atribua o valor 3.14. Verifique e imprima se o tipo dessa variável é float.\n",
    "\n",
    "2. Casting\n",
    "Exercício 3: Crie uma variável chamada inteiro com valor 10 e uma variável chamada flutuante com valor 3.5. Faça o cast de flutuante para inteiro e exiba o resultado no console.\n",
    "Exercício 4: Receba um valor numérico em formato string (por exemplo, \"123\") e converta para o tipo inteiro. Em seguida, multiplique esse número por 2 e exiba o resultado.\n",
    "\n",
    "3. Strings\n",
    "Exercício 5: Crie uma variável chamada nome e atribua o seu nome como valor. Depois, crie uma outra variável chamada sobrenome e atribua o seu sobrenome. Concatene essas duas variáveis em uma única string e exiba no console.\n",
    "Exercício 6: Crie uma string qualquer e use a função len() para calcular o tamanho da string. Exiba o resultado.\n",
    "\n",
    "4. Slicing Strings\n",
    "Exercício 7: Crie uma string com o valor \"Python é incrível!\". Exiba apenas a palavra \"Python\" utilizando slicing.\n",
    "Exercício 8: Dada a string \"Aprendendo Python\", extraia e exiba os três primeiros caracteres da string.\n",
    "\n",
    "5. Modifying Strings\n",
    "Exercício 9: Crie uma variável frase com o valor \"Eu adoro Python!\". Substitua a palavra \"Python\" por \"programação\" e exiba o resultado.\n",
    "Exercício 10: Crie uma string com o valor \"Este é um exemplo\". Converta toda a string para letras maiúsculas e exiba o resultado.\n",
    "\n",
    "6. Escape Characters\n",
    "Exercício 11: Crie uma string que exiba a frase: O \"Python\" é uma linguagem divertida! utilizando escape characters.\n",
    "Exercício 12: Crie uma string que contenha uma nova linha e um tabulador. Exiba a string no console.\n",
    "7. String Methods\n",
    "Exercício 13: Crie uma string com o valor \" python \". Use o método strip() para remover os espaços em branco do início e do final da string, e exiba o resultado.\n",
    "Exercício 14: Crie uma variável chamada frase com o valor \"Eu gosto de aprender Python\". Use o método replace() para substituir a palavra \"aprender\" por \"ensinar\" e exiba a nova frase.\n",
    "Exercício 15: Crie uma variável texto com o valor \"aprendendo Python\". Use o método upper() para transformar todas as letras em maiúsculas e exiba a string resultante.\"\"\"\n",
    "\n",
    "\n",
    "\n"
   ]
  },
  {
   "cell_type": "code",
   "execution_count": 19,
   "metadata": {},
   "outputs": [],
   "source": [
    "\"\"\"1. Data Types\n",
    "Exercício 1: Crie uma variável chamada numero e atribua o valor 5. Em seguida, crie outra variável chamada texto e atribua o valor \"Olá, Mundo!\". Exiba no console os tipos dessas variáveis.\n",
    "Exercício 2: Crie uma variável chamada flutuante e atribua o valor 3.14. Verifique e imprima se o tipo dessa variável é float.\"\"\"\n",
    "\n",
    "def tipos_variaveis():\n",
    "    numero = 5\n",
    "    flutuante = 3.14\n",
    "    txt = \"Olá Anderson!!\"\n",
    "    num = (type(numero))\n",
    "    texto = (type(txt))\n",
    "    flu = (type(flutuante))\n",
    "    resultado = print(f\"Número: {num}\\ntexto: {texto}\\nflutuante: {flu}\")\n",
    "\n"
   ]
  },
  {
   "cell_type": "code",
   "execution_count": 20,
   "metadata": {},
   "outputs": [
    {
     "name": "stdout",
     "output_type": "stream",
     "text": [
      "Número: <class 'int'>\n",
      "texto: <class 'str'>\n",
      "flutuante: <class 'float'>\n"
     ]
    }
   ],
   "source": [
    "tipos_variaveis()"
   ]
  },
  {
   "cell_type": "code",
   "execution_count": 24,
   "metadata": {},
   "outputs": [
    {
     "name": "stdout",
     "output_type": "stream",
     "text": [
      "Valor flutuante: 3.5 , convertido em inteiro: 3\n"
     ]
    }
   ],
   "source": [
    "\"\"\"2. Casting\n",
    "Exercício 3: Crie uma variável chamada inteiro com valor 10 e uma variável chamada flutuante com valor 3.5. Faça o cast de flutuante para inteiro e exiba o resultado no console.\n",
    "Exercício 4: Receba um valor numérico em formato string (por exemplo, \"123\") e converta para o tipo inteiro. Em seguida, multiplique esse número por 2 e exiba o resultado.\"\"\"\n",
    "\n",
    "inteiro = 10\n",
    "flutuante = 3.5\n",
    "conver= int(flutuante)\n",
    "print(\"Valor flutuante:\", flutuante, \", convertido em inteiro:\",conver )\n"
   ]
  },
  {
   "cell_type": "code",
   "execution_count": 25,
   "metadata": {},
   "outputs": [
    {
     "name": "stdout",
     "output_type": "stream",
     "text": [
      "Resultado: 246912\n"
     ]
    }
   ],
   "source": [
    "numerico = \"123456\"\n",
    "convert = int(numerico)\n",
    "mult = convert * 2\n",
    "print(\"Resultado:\",mult)"
   ]
  },
  {
   "cell_type": "code",
   "execution_count": 29,
   "metadata": {},
   "outputs": [
    {
     "name": "stdout",
     "output_type": "stream",
     "text": [
      "Junção: AndersonAbreu\n"
     ]
    }
   ],
   "source": [
    "\"\"\"3. Strings\n",
    "Exercício 5: Crie uma variável chamada nome e atribua o seu nome como valor. Depois, crie uma outra variável chamada sobrenome e atribua o seu sobrenome. Concatene essas duas variáveis \n",
    "em uma única string e exiba no console.\n",
    "Exercício 6: Crie uma string qualquer e use a função len() para calcular o tamanho da string. Exiba o resultado.\"\"\"\n",
    "\n",
    "nome = \"Anderson\"\n",
    "sobrenome = \"Abreu\"\n",
    "print(\"Junção:\", nome + sobrenome)\n"
   ]
  },
  {
   "cell_type": "code",
   "execution_count": 31,
   "metadata": {},
   "outputs": [
    {
     "name": "stdout",
     "output_type": "stream",
     "text": [
      "Tamanho do primeiro nome: 8\n"
     ]
    }
   ],
   "source": [
    "nome = \"Anderson\"\n",
    "print(\"Tamanho do primeiro nome:\",len(nome))"
   ]
  },
  {
   "cell_type": "code",
   "execution_count": 32,
   "metadata": {},
   "outputs": [
    {
     "name": "stdout",
     "output_type": "stream",
     "text": [
      "Python\n"
     ]
    }
   ],
   "source": [
    "\"\"\"4. Slicing Strings\n",
    "Exercício 7: Crie uma string com o valor \"Python é incrível!\". Exiba apenas a palavra \"Python\" utilizando slicing.\n",
    "Exercício 8: Dada a string \"Aprendendo Python\", extraia e exiba os três primeiros caracteres da string.\"\"\"\n",
    "py = \"Python é incrível\"\n",
    "primeira_pala = py[0:6]\n",
    "print(primeira_pala)"
   ]
  },
  {
   "cell_type": "code",
   "execution_count": 34,
   "metadata": {},
   "outputs": [
    {
     "name": "stdout",
     "output_type": "stream",
     "text": [
      "Apr\n"
     ]
    }
   ],
   "source": [
    "estudo = \"Aprendendo Python\"\n",
    "tres_primeiros = estudo[0:3]\n",
    "print(tres_primeiros)"
   ]
  },
  {
   "cell_type": "code",
   "execution_count": 35,
   "metadata": {},
   "outputs": [
    {
     "name": "stdout",
     "output_type": "stream",
     "text": [
      "Eu adoro programação!\n"
     ]
    }
   ],
   "source": [
    "\"\"\"5. Modifying Strings\n",
    "Exercício 9: Crie uma variável frase com o valor \"Eu adoro Python!\". Substitua a palavra \"Python\" por \"programação\" e exiba o resultado.\n",
    "Exercício 10: Crie uma string com o valor \"Este é um exemplo\". Converta toda a string para letras maiúsculas e exiba o resultado.\"\"\"\n",
    "\n",
    "frase = \"Eu adoro Python!\"\n",
    "sub = frase.replace(\"Python\",\"programação\")\n",
    "print(sub)\n"
   ]
  },
  {
   "cell_type": "code",
   "execution_count": 38,
   "metadata": {},
   "outputs": [
    {
     "name": "stdout",
     "output_type": "stream",
     "text": [
      "ESTE É UM EXEMPLO\n"
     ]
    }
   ],
   "source": [
    "txt = \"Este é um exemplo\"\n",
    "conv_mais = txt.upper()\n",
    "print(conv_mais)"
   ]
  }
 ],
 "metadata": {
  "kernelspec": {
   "display_name": "consumers_env",
   "language": "python",
   "name": "python3"
  },
  "language_info": {
   "codemirror_mode": {
    "name": "ipython",
    "version": 3
   },
   "file_extension": ".py",
   "mimetype": "text/x-python",
   "name": "python",
   "nbconvert_exporter": "python",
   "pygments_lexer": "ipython3",
   "version": "3.13.1"
  }
 },
 "nbformat": 4,
 "nbformat_minor": 2
}
