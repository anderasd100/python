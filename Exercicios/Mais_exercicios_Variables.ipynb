{
 "cells": [
  {
   "cell_type": "code",
   "execution_count": 3,
   "metadata": {},
   "outputs": [
    {
     "name": "stdout",
     "output_type": "stream",
     "text": [
      "21\n"
     ]
    }
   ],
   "source": [
    "\"\"\"Variables and Literals\n",
    "Questão 1: Crie uma variável chamada nome que armazene seu nome (em formato de string). Depois, imprima o valor dessa variável.\n",
    "\n",
    "Questão 2: Crie uma variável idade que armazene um número inteiro e, em seguida, imprima o valor dessa variável.\n",
    "\n",
    "Questão 3: Crie uma variável altura que armazene um valor decimal representando sua altura. Imprima o valor com 2 casas decimais.\n",
    "\n",
    "Questão 4: Crie uma variável nome_completo que armazene seu nome e sobrenome e imprima o comprimento (número de caracteres) dessa string.\n",
    "\n",
    "Questão 5: Crie duas variáveis, a e b, que armazenem dois números inteiros. Imprima a soma dos dois valores.\n",
    "\n",
    "Questão 6: Crie uma variável chamada dia e atribua um valor literal de string, como \"segunda-feira\". Imprima a frase \"Hoje é {dia}\" substituindo {dia} pela variável. \"\"\"\n",
    "\n",
    "nome = \"Anderson Abreu Rabelo\"\n",
    "print(len(nome))"
   ]
  },
  {
   "cell_type": "code",
   "execution_count": 6,
   "metadata": {},
   "outputs": [
    {
     "name": "stdout",
     "output_type": "stream",
     "text": [
      "Idade é: 32 é do tipo: <class 'int'>\n"
     ]
    }
   ],
   "source": [
    "idade = 32\n",
    "print(\"Idade é:\", idade,\"é do tipo:\", type(idade))"
   ]
  },
  {
   "cell_type": "code",
   "execution_count": 8,
   "metadata": {},
   "outputs": [
    {
     "name": "stdout",
     "output_type": "stream",
     "text": [
      "Altura: 1.75\n"
     ]
    }
   ],
   "source": [
    "altura = 1.75\n",
    "print(\"Altura:\",round(altura,2))"
   ]
  },
  {
   "cell_type": "code",
   "execution_count": 9,
   "metadata": {},
   "outputs": [
    {
     "name": "stdout",
     "output_type": "stream",
     "text": [
      "Quantiadde de Caracteres: 21\n"
     ]
    }
   ],
   "source": [
    "nome_completo = \"Anderson Abreu Rabelo\"\n",
    "print(\"Quantiadde de Caracteres:\",len(nome_completo))"
   ]
  },
  {
   "cell_type": "code",
   "execution_count": null,
   "metadata": {},
   "outputs": [
    {
     "name": "stdout",
     "output_type": "stream",
     "text": [
      "Soma:  177\n"
     ]
    }
   ],
   "source": [
    "num1 = int(input(\"Informe o primeiro número: \"))\n",
    "num2 = int(input(\"Informe o segundo número:\"))\n",
    "soma = num1 + num2\n",
    "print(\"Soma:\",soma)"
   ]
  },
  {
   "cell_type": "code",
   "execution_count": null,
   "metadata": {},
   "outputs": [
    {
     "name": "stdout",
     "output_type": "stream",
     "text": [
      "Hoje é Segunda-feira\n"
     ]
    }
   ],
   "source": [
    "dia = \"Segunda-feira\"\n",
    "print(f\"Hoje é {dia}\")"
   ]
  },
  {
   "cell_type": "code",
   "execution_count": 18,
   "metadata": {},
   "outputs": [
    {
     "name": "stdout",
     "output_type": "stream",
     "text": [
      "Hoje é: Terça-feira\n"
     ]
    }
   ],
   "source": [
    "dia1 = \"Terça-feira\"\n",
    "print(f\"Hoje é: {dia1}\")"
   ]
  },
  {
   "cell_type": "code",
   "execution_count": null,
   "metadata": {},
   "outputs": [],
   "source": []
  }
 ],
 "metadata": {
  "kernelspec": {
   "display_name": "Python 3",
   "language": "python",
   "name": "python3"
  },
  "language_info": {
   "codemirror_mode": {
    "name": "ipython",
    "version": 3
   },
   "file_extension": ".py",
   "mimetype": "text/x-python",
   "name": "python",
   "nbconvert_exporter": "python",
   "pygments_lexer": "ipython3",
   "version": "3.13.1"
  }
 },
 "nbformat": 4,
 "nbformat_minor": 2
}
