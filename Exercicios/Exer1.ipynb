{
 "cells": [
  {
   "cell_type": "code",
   "execution_count": 6,
   "metadata": {},
   "outputs": [
    {
     "name": "stdout",
     "output_type": "stream",
     "text": [
      "Meu nome é:  Anderson . Minha idade é: 32 e tenho de altura: 1.75\n"
     ]
    }
   ],
   "source": [
    "#Exercício: Crie variáveis para armazenar seu nome, idade e altura. Em seguida, imprima esses valores.\n",
    "\n",
    "n = 'Anderson'\n",
    "id = 32\n",
    "alt = 1.75\n",
    "\n",
    "print(\"Meu nome é: \",n,\". Minha idade é:\",id,\"e tenho de altura:\",alt)"
   ]
  }
 ],
 "metadata": {
  "kernelspec": {
   "display_name": ".venv",
   "language": "python",
   "name": "python3"
  },
  "language_info": {
   "codemirror_mode": {
    "name": "ipython",
    "version": 3
   },
   "file_extension": ".py",
   "mimetype": "text/x-python",
   "name": "python",
   "nbconvert_exporter": "python",
   "pygments_lexer": "ipython3",
   "version": "3.13.1"
  }
 },
 "nbformat": 4,
 "nbformat_minor": 2
}
