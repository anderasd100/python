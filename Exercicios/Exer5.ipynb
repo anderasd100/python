{
 "cells": [
  {
   "cell_type": "code",
   "execution_count": 30,
   "metadata": {},
   "outputs": [
    {
     "name": "stdout",
     "output_type": "stream",
     "text": [
      "O número: -6 é inválido\n"
     ]
    }
   ],
   "source": [
    "#Leia um numero fornecido pelo usuario. Se esse numero for positivo, calcule a raiz\n",
    "#quadrada do numero. Se o numero for negativo, mostre uma mensagem dizendo que o\n",
    "#numero é invalido.\n",
    "\n",
    "import math\n",
    "\n",
    "num1 = int(input(\"Informe um número: \"))\n",
    "if num1 > 0:\n",
    "    raiz_quadrada = math.sqrt(num1)\n",
    "    print(\"A raiz quadrada do número é: \",  round(raiz_quadrada,2))\n",
    "else:\n",
    "    print(\"O número:\", num1, \"é inválido\")"
   ]
  }
 ],
 "metadata": {
  "kernelspec": {
   "display_name": ".venv",
   "language": "python",
   "name": "python3"
  },
  "language_info": {
   "codemirror_mode": {
    "name": "ipython",
    "version": 3
   },
   "file_extension": ".py",
   "mimetype": "text/x-python",
   "name": "python",
   "nbconvert_exporter": "python",
   "pygments_lexer": "ipython3",
   "version": "3.13.1"
  }
 },
 "nbformat": 4,
 "nbformat_minor": 2
}
