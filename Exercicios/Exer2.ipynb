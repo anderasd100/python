{
 "cells": [
  {
   "cell_type": "code",
   "execution_count": 3,
   "metadata": {},
   "outputs": [
    {
     "name": "stdout",
     "output_type": "stream",
     "text": [
      "Soma 10.0\n",
      "Subtração 0.0\n",
      "Divisão 1.0\n",
      "Multiplicação 25.0\n",
      "Anderson Abreu Rabelo\n",
      "32\n"
     ]
    }
   ],
   "source": [
    "#Exercício: Crie um programa que solicite dois números ao usuário e exiba a soma, subtração, multiplicação e divisão desses números.\n",
    "\n",
    "num1 = float(input(\"Digite o primeiro número: \"))\n",
    "num2 = float(input(\"Digite o segundo número:  \"))\n",
    "\n",
    "soma = num1 + num2\n",
    "sub = num1 - num2\n",
    "div = num1 / num2\n",
    "mult = num1 * num2\n",
    "\n",
    "print(\"Soma\", soma)\n",
    "print(\"Subtração\", sub)\n",
    "print(\"Divisão\", div)\n",
    "print(\"Multiplicação\", mult)\n",
    "\n",
    "frase1 = str(input(\"Informe seu nome completo: \"))\n",
    "frase2 = int(input(\"Informe sua idade\" ))\n",
    "\n",
    "print(frase1)\n",
    "print(frase2)\n",
    "\n"
   ]
  }
 ],
 "metadata": {
  "kernelspec": {
   "display_name": ".venv",
   "language": "python",
   "name": "python3"
  },
  "language_info": {
   "codemirror_mode": {
    "name": "ipython",
    "version": 3
   },
   "file_extension": ".py",
   "mimetype": "text/x-python",
   "name": "python",
   "nbconvert_exporter": "python",
   "pygments_lexer": "ipython3",
   "version": "3.13.1"
  }
 },
 "nbformat": 4,
 "nbformat_minor": 2
}
