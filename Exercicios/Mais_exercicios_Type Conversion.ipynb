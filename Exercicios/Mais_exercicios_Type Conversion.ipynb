{
 "cells": [
  {
   "cell_type": "code",
   "execution_count": 3,
   "metadata": {},
   "outputs": [
    {
     "name": "stdout",
     "output_type": "stream",
     "text": [
      "<class 'int'>\n"
     ]
    }
   ],
   "source": [
    "\"\"\"3. Type Conversion\n",
    "Questão 1: Solicite ao usuário para digitar um número decimal (float) e converta esse número para um inteiro, exibindo o resultado da conversão.\n",
    "\n",
    "Questão 2: Converta uma string que representa um número inteiro para um tipo de dado inteiro e imprima o resultado.\n",
    "\n",
    "Questão 3: Crie uma variável num_str que armazene um número em formato de string. Converta essa string para um número float e depois para inteiro. Mostre o valor de cada conversão.\n",
    "\n",
    "Questão 4: Solicite ao usuário para digitar seu peso e altura (ambos como strings) e converta-os para o tipo adequado (float) para calcular o IMC.\n",
    "\n",
    "Questão 5: Solicite ao usuário para digitar um valor numérico e converta esse valor para uma string, mostrando a frase \"O valor digitado foi: {valor}\".\n",
    "\n",
    "Questão 6: Crie uma variável idade_str com valor de string e converta essa variável para um número inteiro para calcular a idade de uma pessoa em 10 anos. Exiba o resultado.\"\"\"\n",
    "\n",
    "num = float(input(\"Informe um número decimal:\"))\n",
    "convert_int = int(num)\n",
    "print(type(convert_int))"
   ]
  },
  {
   "cell_type": "code",
   "execution_count": 5,
   "metadata": {},
   "outputs": [
    {
     "name": "stdout",
     "output_type": "stream",
     "text": [
      "<class 'int'>\n"
     ]
    }
   ],
   "source": [
    "numero = \"77\"\n",
    "convert_string = int(numero)\n",
    "print(type(convert_string))"
   ]
  },
  {
   "cell_type": "code",
   "execution_count": 6,
   "metadata": {},
   "outputs": [
    {
     "name": "stdout",
     "output_type": "stream",
     "text": [
      "Valor convertido em float: <class 'float'> \n",
      "valor convertido em inteiro: <class 'int'>\n"
     ]
    }
   ],
   "source": [
    "num_str = \"66\"\n",
    "str_float = float(num_str)\n",
    "str_int = int(num_str)\n",
    "print(\"Valor convertido em float:\",type(str_float),\"\\nvalor convertido em inteiro:\",type(str_int))"
   ]
  },
  {
   "cell_type": "code",
   "execution_count": 8,
   "metadata": {},
   "outputs": [
    {
     "name": "stdout",
     "output_type": "stream",
     "text": [
      "Cálculo do IMC: 23.40750912892856\n"
     ]
    }
   ],
   "source": [
    "peso = str(input(\"Informe seu peso:\"))\n",
    "altura = str(input(\"Informe sua altura:\"))\n",
    "conv_peso_float = float(peso)\n",
    "conv_altura_float = float(altura)\n",
    "imc = conv_peso_float / (conv_altura_float ** 2)\n",
    "print(\"Cálculo do IMC:\",imc)"
   ]
  },
  {
   "cell_type": "code",
   "execution_count": 9,
   "metadata": {},
   "outputs": [
    {
     "name": "stdout",
     "output_type": "stream",
     "text": [
      "O valor digitador foi: 77\n"
     ]
    }
   ],
   "source": [
    "valor = int(input(\"Informe um valor: \"))\n",
    "conv_valor = str(valor)\n",
    "print(f\"O valor digitador foi:\",conv_valor)"
   ]
  },
  {
   "cell_type": "code",
   "execution_count": 11,
   "metadata": {},
   "outputs": [
    {
     "name": "stdout",
     "output_type": "stream",
     "text": [
      "Sua idade daqui a 10 anos será: 42\n"
     ]
    }
   ],
   "source": [
    "idade = str(input(\"Informe sua idade:\"))\n",
    "conv_idade_string = int(idade)\n",
    "idade_10 = conv_idade_string + 10\n",
    "print(f\"Sua idade daqui a 10 anos será: {idade_10}\")"
   ]
  },
  {
   "cell_type": "code",
   "execution_count": null,
   "metadata": {},
   "outputs": [],
   "source": []
  }
 ],
 "metadata": {
  "kernelspec": {
   "display_name": "Python 3",
   "language": "python",
   "name": "python3"
  },
  "language_info": {
   "codemirror_mode": {
    "name": "ipython",
    "version": 3
   },
   "file_extension": ".py",
   "mimetype": "text/x-python",
   "name": "python",
   "nbconvert_exporter": "python",
   "pygments_lexer": "ipython3",
   "version": "3.13.1"
  }
 },
 "nbformat": 4,
 "nbformat_minor": 2
}
