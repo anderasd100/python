{
 "cells": [
  {
   "cell_type": "code",
   "execution_count": 16,
   "metadata": {},
   "outputs": [
    {
     "name": "stdout",
     "output_type": "stream",
     "text": [
      "Olá  Lauma ,o sexo relatado é: f ,seu peso ideal é: 52.876000000000005\n"
     ]
    }
   ],
   "source": [
    "#Faca um programa que receba a altura e o sexo de uma pessoa e calcule e mostre seu\n",
    "#peso ideal, utilizando as seguintes formulas (onde h corresponde  a altura):\n",
    "#Homens: (72,7 * h) - 58\n",
    "#Mulheres: (62,1 * h)-  44,\n",
    "\n",
    "nome = str(input(\"Informe seu nome: \"))\n",
    "sexo = str(input(\"Informe a primeira letra do seu sexo: \")).lower()\n",
    "alt = float(input(\"Informe sua altura: \"))\n",
    "\n",
    "if sexo == 'm': \n",
    "    print(\"Olá\",nome,\",\" \"o sexo relatado é:\", sexo,\",\" \"seu peso ideal é:\", (72.7 * alt) - 58)\n",
    "elif sexo == 'f':\n",
    "    print(\"Olá\",nome,\",\" \"o sexo relatado é:\", sexo,\",\" \"seu peso ideal é:\", (62.1 * alt) - 44)\n",
    "else:\n",
    "    print(\"Algum parametro informado incorretamente!!!!\")\n"
   ]
  }
 ],
 "metadata": {
  "kernelspec": {
   "display_name": ".venv",
   "language": "python",
   "name": "python3"
  },
  "language_info": {
   "codemirror_mode": {
    "name": "ipython",
    "version": 3
   },
   "file_extension": ".py",
   "mimetype": "text/x-python",
   "name": "python",
   "nbconvert_exporter": "python",
   "pygments_lexer": "ipython3",
   "version": "3.13.1"
  }
 },
 "nbformat": 4,
 "nbformat_minor": 2
}
