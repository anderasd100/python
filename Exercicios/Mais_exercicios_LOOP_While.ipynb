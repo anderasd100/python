{
 "cells": [
  {
   "cell_type": "code",
   "execution_count": 1,
   "metadata": {},
   "outputs": [
    {
     "data": {
      "text/plain": [
       "'1. Contagem regressiva\\nCrie um programa que imprima os números de 10 a 1, em ordem decrescente, usando um loop while.\\n\\n2. Soma de números até um limite\\nSolicite ao usuário que digite um número. Em seguida, crie um programa que some os números de 1 até o número digitado (inclusive) e imprima o resultado.\\n\\n3. Contagem de caracteres\\nCrie um programa que peça ao usuário para digitar uma palavra e, utilizando um loop while, conte quantos caracteres ela possui (sem usar len()).\\n\\n4. Verificação de número positivo\\nPeça ao usuário para digitar um número. Caso o número seja negativo, o programa deve continuar pedindo ao usuário para digitar um número até que seja digitado um número positivo.\\n\\n5. Tabuada\\nSolicite ao usuário que digite um número e, utilizando um loop while, imprima a tabuada desse número de 1 a 10.\\n\\n6. Pares de 0 a 20\\nCrie um programa que imprima todos os números pares de 0 a 20 usando um loop while.\\n\\n7. Contar até o número de tentativas\\nCrie um programa onde o usuário tem 5 tentativas para adivinhar um número secreto entre 1 e 10. O programa deve continuar pedindo tentativas até que o usuário acerte ou o número de tentativas se esgote.\\n\\n8. Fatorial de um número\\nSolicite ao usuário que digite um número e, utilizando um loop while, calcule e imprima o fatorial desse número (fatorial de n = n * (n-1) * (n-2) * ... * 1).\\n\\n9. Acumulador de soma\\nCrie um programa que continue pedindo ao usuário para digitar números e, a cada número digitado, some com a soma acumulada. O programa deve parar quando o usuário digitar o número 0 e imprimir a soma total.\\n\\n10. Par ou ímpar até 100\\nCrie um programa que, utilizando um loop while, imprima todos os números de 1 a 100 e diga se o número é par ou ímpar.\\n\\nEssas questões ajudam a reforçar o uso de loops while, controle de fluxo com if, manipulação de entradas e saídas do usuário, e muito mais. Experimente resolver uma a uma e, se precisar de ajuda, é só avisar!'"
      ]
     },
     "execution_count": 1,
     "metadata": {},
     "output_type": "execute_result"
    }
   ],
   "source": [
    "\"\"\"1. Contagem regressiva\n",
    "Crie um programa que imprima os números de 10 a 1, em ordem decrescente, usando um loop while.\n",
    "\n",
    "2. Soma de números até um limite\n",
    "Solicite ao usuário que digite um número. Em seguida, crie um programa que some os números de 1 até o número digitado (inclusive) e imprima o resultado.\n",
    "\n",
    "3. Contagem de caracteres\n",
    "Crie um programa que peça ao usuário para digitar uma palavra e, utilizando um loop while, conte quantos caracteres ela possui (sem usar len()).\n",
    "\n",
    "4. Verificação de número positivo\n",
    "Peça ao usuário para digitar um número. Caso o número seja negativo, o programa deve continuar pedindo ao usuário para digitar um número até que seja digitado um número positivo.\n",
    "\n",
    "5. Tabuada\n",
    "Solicite ao usuário que digite um número e, utilizando um loop while, imprima a tabuada desse número de 1 a 10.\n",
    "\n",
    "6. Pares de 0 a 20\n",
    "Crie um programa que imprima todos os números pares de 0 a 20 usando um loop while.\n",
    "\n",
    "7. Contar até o número de tentativas\n",
    "Crie um programa onde o usuário tem 5 tentativas para adivinhar um número secreto entre 1 e 10. O programa deve continuar pedindo tentativas até que o usuário acerte ou o número de tentativas se esgote.\n",
    "\n",
    "8. Fatorial de um número\n",
    "Solicite ao usuário que digite um número e, utilizando um loop while, calcule e imprima o fatorial desse número (fatorial de n = n * (n-1) * (n-2) * ... * 1).\n",
    "\n",
    "9. Acumulador de soma\n",
    "Crie um programa que continue pedindo ao usuário para digitar números e, a cada número digitado, some com a soma acumulada. O programa deve parar quando o usuário digitar o número 0 e imprimir a soma total.\n",
    "\n",
    "10. Par ou ímpar até 100\n",
    "Crie um programa que, utilizando um loop while, imprima todos os números de 1 a 100 e diga se o número é par ou ímpar.\n",
    "\n",
    "Essas questões ajudam a reforçar o uso de loops while, controle de fluxo com if, manipulação de entradas e saídas do usuário, e muito mais. Experimente resolver uma a uma e, se precisar de ajuda, é só avisar!\"\"\""
   ]
  },
  {
   "cell_type": "code",
   "execution_count": 27,
   "metadata": {},
   "outputs": [],
   "source": [
    "#1. Contagem regressiva -Crie um programa que imprima os números de 10 a 1, em ordem decrescente, usando um loop while.\n",
    "def loopdesc():\n",
    "    contador = 10\n",
    "    while contador >= 1:\n",
    "        print(contador)\n",
    "        contador -= 1"
   ]
  },
  {
   "cell_type": "code",
   "execution_count": 29,
   "metadata": {},
   "outputs": [
    {
     "name": "stdout",
     "output_type": "stream",
     "text": [
      "10\n",
      "9\n",
      "8\n",
      "7\n",
      "6\n",
      "5\n",
      "4\n",
      "3\n",
      "2\n",
      "1\n"
     ]
    }
   ],
   "source": [
    "loopdesc()\n"
   ]
  },
  {
   "cell_type": "code",
   "execution_count": 33,
   "metadata": {},
   "outputs": [],
   "source": [
    "#2. Soma de números até um limite\n",
    "#Solicite ao usuário que digite um número. Em seguida, crie um programa que some os números de 1 até o número digitado (inclusive) e imprima o resultado.\n",
    "def somando():\n",
    "    num = int(input(\"Informe um número: \"))\n",
    "    soma = 0\n",
    "    for i in range(1, num + 1):\n",
    "     soma += i\n",
    "    print(f\"A soma dos números de 1 até {num} é {soma}\")\n"
   ]
  },
  {
   "cell_type": "code",
   "execution_count": 34,
   "metadata": {},
   "outputs": [
    {
     "name": "stdout",
     "output_type": "stream",
     "text": [
      "A soma dos números de 1 até 7 é 28\n"
     ]
    }
   ],
   "source": [
    "somando()"
   ]
  },
  {
   "cell_type": "code",
   "execution_count": 43,
   "metadata": {},
   "outputs": [],
   "source": [
    "#3. Contagem de caracteres\n",
    "#Crie um programa que peça ao usuário para digitar uma palavra e, utilizando um loop while, conte quantos caracteres ela possui (sem usar len()).\n",
    "\n",
    "def conte_palavras():\n",
    "    palavra = input(\"Informe uma palavra: \")\n",
    "    contador = 0\n",
    "    indice = 0\n",
    "    while indice < len(palavra):\n",
    "        contador += 1\n",
    "        indice += 1\n",
    "    print(f\"A palavra {palavra} possui {contador} caracteres\")\n",
    "\n"
   ]
  },
  {
   "cell_type": "code",
   "execution_count": 44,
   "metadata": {},
   "outputs": [
    {
     "name": "stdout",
     "output_type": "stream",
     "text": [
      "A palavra Amor possui 4 caracteres\n"
     ]
    }
   ],
   "source": [
    "conte_palavras()"
   ]
  },
  {
   "cell_type": "code",
   "execution_count": null,
   "metadata": {},
   "outputs": [
    {
     "ename": "",
     "evalue": "",
     "output_type": "error",
     "traceback": [
      "\u001b[1;31mThe Kernel crashed while executing code in the current cell or a previous cell. \n",
      "\u001b[1;31mPlease review the code in the cell(s) to identify a possible cause of the failure. \n",
      "\u001b[1;31mClick <a href='https://aka.ms/vscodeJupyterKernelCrash'>here</a> for more info. \n",
      "\u001b[1;31mView Jupyter <a href='command:jupyter.viewOutput'>log</a> for further details."
     ]
    }
   ],
   "source": [
    "#4. Verificação de número positivo\n",
    "#Peça ao usuário para digitar um número. Caso o número seja negativo, o programa deve continuar pedindo ao usuário para digitar\n",
    "#  um número até que seja digitado um número positivo.\n"
   ]
  }
 ],
 "metadata": {
  "kernelspec": {
   "display_name": "Python 3",
   "language": "python",
   "name": "python3"
  },
  "language_info": {
   "codemirror_mode": {
    "name": "ipython",
    "version": 3
   },
   "file_extension": ".py",
   "mimetype": "text/x-python",
   "name": "python",
   "nbconvert_exporter": "python",
   "pygments_lexer": "ipython3",
   "version": "3.13.1"
  }
 },
 "nbformat": 4,
 "nbformat_minor": 2
}
