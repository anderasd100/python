{
 "cells": [
  {
   "cell_type": "code",
   "execution_count": 1,
   "metadata": {},
   "outputs": [
    {
     "data": {
      "text/plain": [
       "'1. Contagem regressiva\\nCrie um programa que imprima os números de 10 a 1, em ordem decrescente, usando um loop while.\\n\\n2. Soma de números até um limite\\nSolicite ao usuário que digite um número. Em seguida, crie um programa que some os números de 1 até o número digitado (inclusive) e imprima o resultado.\\n\\n3. Contagem de caracteres\\nCrie um programa que peça ao usuário para digitar uma palavra e, utilizando um loop while, conte quantos caracteres ela possui (sem usar len()).\\n\\n4. Verificação de número positivo\\nPeça ao usuário para digitar um número. Caso o número seja negativo, o programa deve continuar pedindo ao usuário para digitar um número até que seja digitado um número positivo.\\n\\n5. Tabuada\\nSolicite ao usuário que digite um número e, utilizando um loop while, imprima a tabuada desse número de 1 a 10.\\n\\n6. Pares de 0 a 20\\nCrie um programa que imprima todos os números pares de 0 a 20 usando um loop while.\\n\\n7. Contar até o número de tentativas\\nCrie um programa onde o usuário tem 5 tentativas para adivinhar um número secreto entre 1 e 10. O programa deve continuar pedindo tentativas até que o usuário acerte ou o número de tentativas se esgote.\\n\\n8. Fatorial de um número\\nSolicite ao usuário que digite um número e, utilizando um loop while, calcule e imprima o fatorial desse número (fatorial de n = n * (n-1) * (n-2) * ... * 1).\\n\\n9. Acumulador de soma\\nCrie um programa que continue pedindo ao usuário para digitar números e, a cada número digitado, some com a soma acumulada. O programa deve parar quando o usuário digitar o número 0 e imprimir a soma total.\\n\\n10. Par ou ímpar até 100\\nCrie um programa que, utilizando um loop while, imprima todos os números de 1 a 100 e diga se o número é par ou ímpar.\\n\\nEssas questões ajudam a reforçar o uso de loops while, controle de fluxo com if, manipulação de entradas e saídas do usuário, e muito mais. Experimente resolver uma a uma e, se precisar de ajuda, é só avisar!'"
      ]
     },
     "execution_count": 1,
     "metadata": {},
     "output_type": "execute_result"
    }
   ],
   "source": [
    "\"\"\"1. Contagem regressiva\n",
    "Crie um programa que imprima os números de 10 a 1, em ordem decrescente, usando um loop while.\n",
    "\n",
    "2. Soma de números até um limite\n",
    "Solicite ao usuário que digite um número. Em seguida, crie um programa que some os números de 1 até o número digitado (inclusive) e imprima o resultado.\n",
    "\n",
    "3. Contagem de caracteres\n",
    "Crie um programa que peça ao usuário para digitar uma palavra e, utilizando um loop while, conte quantos caracteres ela possui (sem usar len()).\n",
    "\n",
    "4. Verificação de número positivo\n",
    "Peça ao usuário para digitar um número. Caso o número seja negativo, o programa deve continuar pedindo ao usuário para digitar um número até que seja digitado um número positivo.\n",
    "\n",
    "5. Tabuada\n",
    "Solicite ao usuário que digite um número e, utilizando um loop while, imprima a tabuada desse número de 1 a 10.\n",
    "\n",
    "6. Pares de 0 a 20\n",
    "Crie um programa que imprima todos os números pares de 0 a 20 usando um loop while.\n",
    "\n",
    "7. Contar até o número de tentativas\n",
    "Crie um programa onde o usuário tem 5 tentativas para adivinhar um número secreto entre 1 e 10. O programa deve continuar pedindo tentativas até que o usuário acerte ou o número de tentativas se esgote.\n",
    "\n",
    "8. Fatorial de um número\n",
    "Solicite ao usuário que digite um número e, utilizando um loop while, calcule e imprima o fatorial desse número (fatorial de n = n * (n-1) * (n-2) * ... * 1).\n",
    "\n",
    "9. Acumulador de soma\n",
    "Crie um programa que continue pedindo ao usuário para digitar números e, a cada número digitado, some com a soma acumulada. O programa deve parar quando o usuário digitar o número 0 e imprimir a soma total.\n",
    "\n",
    "10. Par ou ímpar até 100\n",
    "Crie um programa que, utilizando um loop while, imprima todos os números de 1 a 100 e diga se o número é par ou ímpar.\n",
    "\n",
    "Essas questões ajudam a reforçar o uso de loops while, controle de fluxo com if, manipulação de entradas e saídas do usuário, e muito mais. Experimente resolver uma a uma e, se precisar de ajuda, é só avisar!\"\"\""
   ]
  },
  {
   "cell_type": "code",
   "execution_count": null,
   "metadata": {},
   "outputs": [],
   "source": [
    "#Contagem regressiva\n",
    "#Crie um programa que imprima os números de 10 a 1, em ordem decrescente, usando um loop while.\n",
    "\n",
    "def numdesc():\n",
    "    numero = 10\n",
    "\n",
    "# Enquanto o número for maior que 0\n",
    "while numero >= 1:\n",
    "    print(numero)  # Imprime o número\n",
    "    numero -= 1    "
   ]
  },
  {
   "cell_type": "code",
   "execution_count": null,
   "metadata": {},
   "outputs": [],
   "source": []
  }
 ],
 "metadata": {
  "kernelspec": {
   "display_name": "Python 3",
   "language": "python",
   "name": "python3"
  },
  "language_info": {
   "codemirror_mode": {
    "name": "ipython",
    "version": 3
   },
   "file_extension": ".py",
   "mimetype": "text/x-python",
   "name": "python",
   "nbconvert_exporter": "python",
   "pygments_lexer": "ipython3",
   "version": "3.13.1"
  }
 },
 "nbformat": 4,
 "nbformat_minor": 2
}
