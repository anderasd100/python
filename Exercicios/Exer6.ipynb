{
 "cells": [
  {
   "cell_type": "code",
   "execution_count": 9,
   "metadata": {},
   "outputs": [
    {
     "name": "stdout",
     "output_type": "stream",
     "text": [
      "O número -5 ao quadraro é: 25\n"
     ]
    }
   ],
   "source": [
    "#Leia um numero real. Se o numero for positivo imprima a raiz quadrada. Do contrario,\n",
    " #imprima o numero ao quadrado.\n",
    "\n",
    "import math\n",
    "\n",
    "num1 = int (input(\"Informe um número: \"))\n",
    "if num1 > 0:\n",
    "    raiz = math.sqrt(num1)\n",
    "    print(\"A raiz quadrada de\", num1, \"é:\", round(raiz,2))\n",
    "else:\n",
    "    print(\"O número\", num1, \"ao quadraro é:\", num1 ** 2)"
   ]
  }
 ],
 "metadata": {
  "kernelspec": {
   "display_name": ".venv",
   "language": "python",
   "name": "python3"
  },
  "language_info": {
   "codemirror_mode": {
    "name": "ipython",
    "version": 3
   },
   "file_extension": ".py",
   "mimetype": "text/x-python",
   "name": "python",
   "nbconvert_exporter": "python",
   "pygments_lexer": "ipython3",
   "version": "3.13.1"
  }
 },
 "nbformat": 4,
 "nbformat_minor": 2
}
