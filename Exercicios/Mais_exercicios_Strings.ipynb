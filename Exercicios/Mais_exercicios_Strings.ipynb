{
 "cells": [
  {
   "cell_type": "code",
   "execution_count": null,
   "metadata": {},
   "outputs": [
    {
     "data": {
      "text/plain": [
       "'Operações com Strings\\nContagem de caracteres: Peça ao usuário uma frase e imprima o número de caracteres dessa frase.\\n\\nInverter uma string: Solicite ao usuário uma palavra e imprima a palavra invertida.\\n\\nSubstituição de caracteres: Pergunte ao usuário uma frase e substitua uma letra específica por outra.\\n\\nVerificação de substring: Peça ao usuário uma palavra e verifique se uma substring (parte de uma palavra) está presente nela.\\n\\nTransformar para maiúsculas: Solicite ao usuário uma frase e imprima essa frase em letras maiúsculas.\\n\\nTransformar para minúsculas: Pergunte ao usuário uma frase e imprima a frase em letras minúsculas.\\n\\nConcatenar strings: Peça ao usuário o nome e sobrenome e imprima o nome completo concatenado.\\n\\nRemover espaços: Solicite ao usuário uma frase e remova os espaços no início e no final da string.\\n\\nVerificação de palíndromo: Peça ao usuário uma palavra e verifique se ela é um palíndromo (ou seja, se ela pode ser lida da mesma forma de trás para frente).'"
      ]
     },
     "execution_count": 1,
     "metadata": {},
     "output_type": "execute_result"
    }
   ],
   "source": [
    "\"\"\"Operações com Strings\n",
    "Contagem de caracteres: Peça ao usuário uma frase e imprima o número de caracteres dessa frase.\n",
    "\n",
    "Inverter uma string: Solicite ao usuário uma palavra e imprima a palavra invertida.\n",
    "\n",
    "Substituição de caracteres: Pergunte ao usuário uma frase e substitua uma letra específica por outra.\n",
    "\n",
    "Verificação de substring: Peça ao usuário uma palavra e verifique se uma substring (parte de uma palavra) está presente nela.\n",
    "\n",
    "Transformar para maiúsculdefas: Solicite ao usuário uma frase e imprima essa frase em letras maiúsculas.\n",
    "\n",
    "Transformar para minúsculas: Pergunte ao usuário uma frase e imprima a frase em letras minúsculas.\n",
    "\n",
    "Concatenar strings: Peça ao usuário o nome e sobrenome e imprima o nome completo concatenado.\n",
    "\n",
    "Remover espaços: Solicite ao usuário uma frase e remova os espaços no início e no final da string.\n",
    "\n",
    "Verificação de palíndromo: Peça ao usuário uma palavra e verifique se ela é um palíndromo (ou seja, se ela pode ser lida da mesma forma de trás para frente).\"\"\""
   ]
  },
  {
   "cell_type": "code",
   "execution_count": 2,
   "metadata": {},
   "outputs": [
    {
     "name": "stdout",
     "output_type": "stream",
     "text": [
      "26\n"
     ]
    }
   ],
   "source": [
    "frase = input(\"Digite uma frase:\")\n",
    "print(len(frase))"
   ]
  },
  {
   "cell_type": "code",
   "execution_count": 3,
   "metadata": {},
   "outputs": [
    {
     "name": "stdout",
     "output_type": "stream",
     "text": [
      "Frase digitada invertida: !!!!nohtyP álO\n"
     ]
    }
   ],
   "source": [
    "frase = input(\"Digite uma frase:\")\n",
    "pala_invertida = frase[::-1]\n",
    "print(\"Frase digitada invertida:\",pala_invertida)"
   ]
  },
  {
   "cell_type": "code",
   "execution_count": null,
   "metadata": {},
   "outputs": [],
   "source": [
    "def frase_subs():\n",
    "    frase = input(\"Informe uma frase:\")\n",
    "    letraantiga = input(\"Digite uma letra que você deseja substituir da frase: \")\n",
    "    letranova = input(\"Informe a nova letra: \")\n",
    "    frase_mod = frase.replace(letraantiga,letranova)\n",
    "    return frase_mod"
   ]
  },
  {
   "cell_type": "code",
   "execution_count": 6,
   "metadata": {},
   "outputs": [
    {
     "data": {
      "text/plain": [
       "'Sejn bem vindo no plnnetn terrn'"
      ]
     },
     "execution_count": 6,
     "metadata": {},
     "output_type": "execute_result"
    }
   ],
   "source": [
    "frase_subs()"
   ]
  },
  {
   "cell_type": "code",
   "execution_count": null,
   "metadata": {},
   "outputs": [],
   "source": [
    "def maiscula():\n",
    "    frase = input(\"Digite uma frase:\")\n",
    "    frase_mais = print(\"Frase maiúscula:\",frase.upper())\n",
    "    return frase_mais\n"
   ]
  },
  {
   "cell_type": "code",
   "execution_count": 10,
   "metadata": {},
   "outputs": [
    {
     "name": "stdout",
     "output_type": "stream",
     "text": [
      "Frase em maiscúla: OLÁ MUNDO, ESTOU AQUI!!!\n"
     ]
    }
   ],
   "source": [
    "maiscula()"
   ]
  },
  {
   "cell_type": "code",
   "execution_count": null,
   "metadata": {},
   "outputs": [],
   "source": [
    "def minuscula():\n",
    "    frase = input(\"Digite uma frase:\")\n",
    "    frase_minus = print(\"Frase minúscula:\",frase.upper())\n",
    "    return frase_minus"
   ]
  },
  {
   "cell_type": "code",
   "execution_count": 14,
   "metadata": {},
   "outputs": [
    {
     "name": "stdout",
     "output_type": "stream",
     "text": [
      "Frase em minúsculas: OLÁ, ANDERSON, TUDO BEM?\n"
     ]
    }
   ],
   "source": [
    "minuscula()"
   ]
  },
  {
   "cell_type": "code",
   "execution_count": null,
   "metadata": {},
   "outputs": [],
   "source": []
  }
 ],
 "metadata": {
  "kernelspec": {
   "display_name": "Python 3",
   "language": "python",
   "name": "python3"
  },
  "language_info": {
   "codemirror_mode": {
    "name": "ipython",
    "version": 3
   },
   "file_extension": ".py",
   "mimetype": "text/x-python",
   "name": "python",
   "nbconvert_exporter": "python",
   "pygments_lexer": "ipython3",
   "version": "3.13.1"
  }
 },
 "nbformat": 4,
 "nbformat_minor": 2
}
