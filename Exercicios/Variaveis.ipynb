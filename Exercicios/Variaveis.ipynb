{
 "cells": [
  {
   "cell_type": "code",
   "execution_count": 4,
   "metadata": {},
   "outputs": [
    {
     "name": "stdout",
     "output_type": "stream",
     "text": [
      "<class 'str'>\n",
      "<class 'int'>\n",
      "<class 'float'>\n",
      "Sally\n",
      "4\n"
     ]
    }
   ],
   "source": [
    "#Variáveis:\n",
    "#Se você quiser especificar o tipo de dados de uma variável, isso pode ser feito com a conversão. Exemplo:\n",
    "x = str(3)\n",
    "y = int(3)\n",
    "z = float(3)\n",
    "\n",
    "#Usando a função TYPE(), para obter o tipo de dados:\n",
    "\n",
    "print(type(x))\n",
    "print(type(y))\n",
    "print(type(z))\n",
    "\n",
    "#Os nomes das variáveis são sensíveis a maiúsculas e minúsculas. Exemplo:\n",
    "#Isso criará duas variáveis:\n",
    "\n",
    "a = 4\n",
    "A = \"Sally\"\n",
    "\n",
    "print(A)\n",
    "print(a)\n",
    "\n"
   ]
  }
 ],
 "metadata": {
  "kernelspec": {
   "display_name": ".venv",
   "language": "python",
   "name": "python3"
  },
  "language_info": {
   "codemirror_mode": {
    "name": "ipython",
    "version": 3
   },
   "file_extension": ".py",
   "mimetype": "text/x-python",
   "name": "python",
   "nbconvert_exporter": "python",
   "pygments_lexer": "ipython3",
   "version": "3.13.1"
  }
 },
 "nbformat": 4,
 "nbformat_minor": 2
}
