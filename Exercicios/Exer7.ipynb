{
 "cells": [
  {
   "cell_type": "code",
   "execution_count": 9,
   "metadata": {},
   "outputs": [
    {
     "name": "stdout",
     "output_type": "stream",
     "text": [
      "O número: 7 ao quadrado é: 49\n"
     ]
    }
   ],
   "source": [
    "# Faça um programa que leia um numero e, caso ele seja positivo, calcule e mostre:\n",
    " #O numero digitado ao quadrado\n",
    " #A raiz quadrada do numero digitado\n",
    "\n",
    "import math\n",
    "\n",
    "num = int(input(\"Informe um número: \"))\n",
    "if num > 0:\n",
    "    raiz = math.sqrt(num)\n",
    "    print(\"O número:\", num, 'ao quadrado é:', num ** 2)\n",
    "else:\n",
    "    print(\"A raiz quadrade de:\", num, \"é:\", raiz)"
   ]
  }
 ],
 "metadata": {
  "kernelspec": {
   "display_name": ".venv",
   "language": "python",
   "name": "python3"
  },
  "language_info": {
   "codemirror_mode": {
    "name": "ipython",
    "version": 3
   },
   "file_extension": ".py",
   "mimetype": "text/x-python",
   "name": "python",
   "nbconvert_exporter": "python",
   "pygments_lexer": "ipython3",
   "version": "3.13.1"
  }
 },
 "nbformat": 4,
 "nbformat_minor": 2
}
