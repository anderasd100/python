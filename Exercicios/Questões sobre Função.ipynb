{
 "cells": [
  {
   "cell_type": "code",
   "execution_count": 1,
   "metadata": {},
   "outputs": [
    {
     "data": {
      "text/plain": [
       "'Exercícios Iniciantes\\nExercício 1: Crie uma função chamada saudar que receba um nome e imprima \"Olá, [nome]!\".\\nExercício 2: Crie uma função que receba dois números e retorne a soma deles.\\nExercício 3: Crie uma função que receba um número e retorne se ele é par ou ímpar.\\nExercício 4: Crie uma função que receba um número e retorne o seu quadrado.\\nExercício 5: Crie uma função chamada triplicar que receba um número e retorne o valor triplicado.\\nExercício 6: Crie uma função que receba um número e retorne a raiz quadrada dele.\\nExercício 7: Crie uma função que receba uma lista de números e retorne o maior valor da lista.\\nExercício 8: Crie uma função que receba uma lista de números e retorne o menor valor da lista.\\nExercício 9: Crie uma função que recebe uma lista de números e retorna a média deles.\\nExercício 10: Crie uma função que receba uma string e retorne a quantidade de caracteres.\\nExercícios Intermediários\\nExercício 11: Crie uma função que receba uma lista de números e retorne a soma de todos os números positivos.\\nExercício 12: Crie uma função que receba uma string e retorne a string invertida.\\nExercício 13: Crie uma função que receba dois números e retorne a divisão deles, com tratamento para divisão por zero.\\nExercício 14: Crie uma função que receba um número inteiro e retorne se ele é um número primo.\\nExercício 15: Crie uma função que receba uma lista de strings e retorne a lista ordenada em ordem alfabética.\\nExercício 16: Crie uma função que receba um número e retorne uma lista com todos os números de 1 até o número recebido.\\nExercício 17: Crie uma função que receba uma lista de números e retorne uma nova lista com os números ao quadrado.\\nExercício 18: Crie uma função que receba um número e retorne um dicionário com a chave \\'dobro\\' e \\'triplo\\' do número.\\nExercício 19: Crie uma função que recebe uma lista de tuplas e retorna a tupla com o maior valor na segunda posição.\\nExercício 20: Crie uma função que recebe um valor e retorne a quantidade de dígitos desse número.\\nExercícios Avançados\\nExercício 21: Crie uma função que receba uma lista de números e retorne a mediana dessa lista.\\nExercício 22: Crie uma função que receba uma lista de números e retorne uma nova lista com todos os números que são divisíveis por 3.\\nExercício 23: Crie uma função que receba um texto e retorne a quantidade de palavras nesse texto.\\nExercício 24: Crie uma função que recebe duas listas de números e retorna uma lista contendo apenas os números que estão presentes nas duas listas.\\nExercício 25: Crie uma função que receba uma lista de números e retorne um dicionário onde a chave seja o número e o valor seja o número de vezes que ele aparece na lista. '"
      ]
     },
     "execution_count": 1,
     "metadata": {},
     "output_type": "execute_result"
    }
   ],
   "source": [
    "\"\"\"Exercícios Iniciantes\n",
    "Exercício 1: Crie uma função chamada saudar que receba um nome e imprima \"Olá, [nome]!\".\n",
    "Exercício 2: Crie uma função que receba dois números e retorne a soma deles.\n",
    "Exercício 3: Crie uma função que receba um número e retorne se ele é par ou ímpar.\n",
    "Exercício 4: Crie uma função que receba um número e retorne o seu quadrado.\n",
    "Exercício 5: Crie uma função chamada triplicar que receba um número e retorne o valor triplicado.\n",
    "Exercício 6: Crie uma função que receba um número e retorne a raiz quadrada dele.\n",
    "Exercício 7: Crie uma função que receba uma lista de números e retorne o maior valor da lista.\n",
    "Exercício 8: Crie uma função que receba uma lista de números e retorne o menor valor da lista.\n",
    "Exercício 9: Crie uma função que recebe uma lista de números e retorna a média deles.\n",
    "Exercício 10: Crie uma função que receba uma string e retorne a quantidade de caracteres.\n",
    "Exercícios Intermediários\n",
    "Exercício 11: Crie uma função que receba uma lista de números e retorne a soma de todos os números positivos.\n",
    "Exercício 12: Crie uma função que receba uma string e retorne a string invertida.\n",
    "Exercício 13: Crie uma função que receba dois números e retorne a divisão deles, com tratamento para divisão por zero.\n",
    "Exercício 14: Crie uma função que receba um número inteiro e retorne se ele é um número primo.\n",
    "Exercício 15: Crie uma função que receba uma lista de strings e retorne a lista ordenada em ordem alfabética.\n",
    "Exercício 16: Crie uma função que receba um número e retorne uma lista com todos os números de 1 até o número recebido.\n",
    "Exercício 17: Crie uma função que receba uma lista de números e retorne uma nova lista com os números ao quadrado.\n",
    "Exercício 18: Crie uma função que receba um número e retorne um dicionário com a chave 'dobro' e 'triplo' do número.\n",
    "Exercício 19: Crie uma função que recebe uma lista de tuplas e retorna a tupla com o maior valor na segunda posição.\n",
    "Exercício 20: Crie uma função que recebe um valor e retorne a quantidade de dígitos desse número.\n",
    "Exercícios Avançados\n",
    "Exercício 21: Crie uma função que receba uma lista de números e retorne a mediana dessa lista.\n",
    "Exercício 22: Crie uma função que receba uma lista de números e retorne uma nova lista com todos os números que são divisíveis por 3.\n",
    "Exercício 23: Crie uma função que receba um texto e retorne a quantidade de palavras nesse texto.\n",
    "Exercício 24: Crie uma função que recebe duas listas de números e retorna uma lista contendo apenas os números que estão presentes nas duas listas.\n",
    "Exercício 25: Crie uma função que receba uma lista de números e retorne um dicionário onde a chave seja o número e o valor seja o número de vezes que ele aparece na lista. \"\"\"\n"
   ]
  },
  {
   "cell_type": "code",
   "execution_count": 2,
   "metadata": {},
   "outputs": [],
   "source": [
    "#Exercício 1: Crie uma função chamada saudar que receba um nome e imprima \"Olá, [nome]!\"."
   ]
  },
  {
   "cell_type": "code",
   "execution_count": 3,
   "metadata": {},
   "outputs": [],
   "source": [
    "def saudacao():\n",
    "    nome = input(\"Informe seu nome: \")\n",
    "    saudacao = print(\"Olá,\",nome)\n",
    "    return saudacao"
   ]
  },
  {
   "cell_type": "code",
   "execution_count": 4,
   "metadata": {},
   "outputs": [
    {
     "name": "stdout",
     "output_type": "stream",
     "text": [
      "Olá, Anderson\n"
     ]
    }
   ],
   "source": [
    "saudacao()"
   ]
  },
  {
   "cell_type": "code",
   "execution_count": 6,
   "metadata": {},
   "outputs": [],
   "source": [
    "#Exercício 2: Crie uma função que receba dois números e retorne a soma deles.\n",
    "def soma():\n",
    "    num1 = int(input(\"Informe o primeiro número: \"))\n",
    "    num2 = int(input(\"Informe o segundo número: \"))\n",
    "    retorna_soma = print(\"A soma dos valores informados é:\",num1 + num2)\n",
    "    return retorna_soma"
   ]
  },
  {
   "cell_type": "code",
   "execution_count": 7,
   "metadata": {},
   "outputs": [
    {
     "name": "stdout",
     "output_type": "stream",
     "text": [
      "A soma dos valores informados é: 30\n"
     ]
    }
   ],
   "source": [
    "soma()"
   ]
  },
  {
   "cell_type": "code",
   "execution_count": 8,
   "metadata": {},
   "outputs": [],
   "source": [
    "#Exercício 3: Crie uma função que receba um número e retorne se ele é par ou ímpar.\n",
    "def parimpar():\n",
    "    num = int(input(\"Informe um número: \"))\n",
    "    if num % 2 == 0:\n",
    "        print(\"O número informado é par\")\n",
    "    else:\n",
    "        print(\"O número informado é impar\")\n",
    "        "
   ]
  },
  {
   "cell_type": "code",
   "execution_count": 10,
   "metadata": {},
   "outputs": [
    {
     "name": "stdout",
     "output_type": "stream",
     "text": [
      "O número informado é impar\n"
     ]
    }
   ],
   "source": [
    "parimpar()"
   ]
  },
  {
   "cell_type": "code",
   "execution_count": 15,
   "metadata": {},
   "outputs": [],
   "source": [
    "#Exercício 4: Crie uma função que receba um número e retorne o seu quadrado.\n",
    "import math\n",
    "\n",
    "def quadrado():\n",
    "    num = int(input(\"Informe um número: \"))\n",
    "    raiz = math.sqrt(num)\n",
    "    valor_raiz = print(\"Raiz quadrada é:\",raiz)\n",
    "    return valor_raiz\n"
   ]
  },
  {
   "cell_type": "code",
   "execution_count": 16,
   "metadata": {},
   "outputs": [
    {
     "name": "stdout",
     "output_type": "stream",
     "text": [
      "Raiz quadrada é: 3.1622776601683795\n"
     ]
    }
   ],
   "source": [
    "quadrado()"
   ]
  },
  {
   "cell_type": "code",
   "execution_count": 21,
   "metadata": {},
   "outputs": [],
   "source": [
    "#Exercício 5: Crie uma função chamada triplicar que receba um número e retorne o valor triplicado.\n",
    "def triplicado():\n",
    "    num = int(input(\"Informe um número: \"))\n",
    "    novo_valor_triplicado = num * 3\n",
    "    print(\"O valor informado triplicado é:\",novo_valor_triplicado)\n",
    "    return novo_valor_triplicado"
   ]
  },
  {
   "cell_type": "code",
   "execution_count": 22,
   "metadata": {},
   "outputs": [
    {
     "name": "stdout",
     "output_type": "stream",
     "text": [
      "O valor informado triplicado é: 300\n"
     ]
    },
    {
     "data": {
      "text/plain": [
       "300"
      ]
     },
     "execution_count": 22,
     "metadata": {},
     "output_type": "execute_result"
    }
   ],
   "source": [
    "triplicado()"
   ]
  },
  {
   "cell_type": "code",
   "execution_count": 26,
   "metadata": {},
   "outputs": [],
   "source": [
    "#Exercício 6: Crie uma função que receba um número e retorne a raiz quadrada dele.\n",
    "import math\n",
    "\n",
    "def raiz():\n",
    "   num = float(input(\"Informe um número:\"))\n",
    "   raiz_quadrada = math.sqrt(num)\n",
    "   print(\"Raiz quadrada do número informado:\",raiz_quadrada) "
   ]
  },
  {
   "cell_type": "code",
   "execution_count": 27,
   "metadata": {},
   "outputs": [
    {
     "name": "stdout",
     "output_type": "stream",
     "text": [
      "Raiz quadrada do número informado: 10.0\n"
     ]
    }
   ],
   "source": [
    "raiz()"
   ]
  },
  {
   "cell_type": "code",
   "execution_count": 59,
   "metadata": {},
   "outputs": [
    {
     "name": "stdout",
     "output_type": "stream",
     "text": [
      "O maior valor da lista é:65465465465\n"
     ]
    }
   ],
   "source": [
    "#Exercício 7: Crie uma função que receba uma lista de números e retorne o maior valor da lista.\n",
    "\n",
    "def maior_valor(lista):\n",
    "    return max(lista)\n",
    "num = [1,2,3,45,552,4,65465465465,44545]\n",
    "resul = maior_valor(num)\n",
    "print(f\"O maior valor da lista é:{resul}\")"
   ]
  },
  {
   "cell_type": "code",
   "execution_count": null,
   "metadata": {},
   "outputs": [],
   "source": [
    "def maior_valor(lista):\n",
    "    return max(lista)  # Retorna o maior valor da lista\n",
    "\n",
    "# Exemplo de uso\n",
    "numeros = [3, 7, 2, 9, 4]\n",
    "resultado = maior_valor(numeros)\n",
    "print(f\"O maior valor da lista é: {resultado}\")"
   ]
  },
  {
   "cell_type": "code",
   "execution_count": 61,
   "metadata": {},
   "outputs": [
    {
     "name": "stdout",
     "output_type": "stream",
     "text": [
      "O menor valor da lista é: 1\n"
     ]
    }
   ],
   "source": [
    "#Exercício 8: Crie uma função que receba uma lista de números e retorne o menor valor da lista.\n",
    "def menor_valor(lista):\n",
    "    return min(lista)\n",
    "numen = [1,5145,64654,64,1321,454,8646]\n",
    "resulta = menor_valor(numen)\n",
    "print(f\"O menor valor da lista é: {resulta}\")"
   ]
  },
  {
   "cell_type": "code",
   "execution_count": 63,
   "metadata": {},
   "outputs": [
    {
     "name": "stdout",
     "output_type": "stream",
     "text": [
      "A média dos valores da lista é: <function media at 0x0000023EFA4A45E0>\n"
     ]
    }
   ],
   "source": [
    "#Exercício 9: Crie uma função que recebe uma lista de números e retorna a média deles.\n",
    "def media(lista):\n",
    "    return sum(lista) / len(lista) if lista else 0\n",
    "\n",
    "numeros = [10,20,30,40,50,90]\n",
    "calc_media = media(numeros)\n",
    "print(f\"A média dos valores da lista é: {media}\")"
   ]
  },
  {
   "cell_type": "code",
   "execution_count": 64,
   "metadata": {},
   "outputs": [],
   "source": [
    "#Exercício 10: Crie uma função que receba uma string e retorne a quantidade de caracteres.\n",
    "def quantidade_string():\n",
    "    quant_str = input(\"Digite uma palavra:\")\n",
    "    palavra = len(quant_str)\n",
    "    print(\"Quantidade de caracteres digitado é:\",palavra)"
   ]
  },
  {
   "cell_type": "code",
   "execution_count": 66,
   "metadata": {},
   "outputs": [
    {
     "name": "stdout",
     "output_type": "stream",
     "text": [
      "Quantidade de caracteres digitado é: 8\n"
     ]
    }
   ],
   "source": [
    "quantidade_string()"
   ]
  },
  {
   "cell_type": "code",
   "execution_count": 76,
   "metadata": {},
   "outputs": [
    {
     "name": "stdout",
     "output_type": "stream",
     "text": [
      "A quantidade de números posotivos é: 4\n"
     ]
    }
   ],
   "source": [
    "#Exercício 11: Crie uma função que receba uma lista de números e retorne a soma de todos os números positivos.\n",
    "def listanumeros(lista):\n",
    "    soma = 0\n",
    "    for numeros in lista:\n",
    "        if numeros > 0:\n",
    "            soma += numeros\n",
    "            return soma\n",
    "        \n",
    "numeros = [-1, -10, -20, -25, 4,5,9,7]\n",
    "resultado = listanumeros(numeros)\n",
    "print(f\"A quantidade de números posotivos é: {resultado}\")\n"
   ]
  },
  {
   "cell_type": "code",
   "execution_count": 85,
   "metadata": {},
   "outputs": [],
   "source": [
    "def loopBreak():\n",
    "    for x in range(5,60):\n",
    "     if x == 7:\n",
    "        break\n",
    "    print(\"O valor de x é:\",x)"
   ]
  },
  {
   "cell_type": "code",
   "execution_count": 84,
   "metadata": {},
   "outputs": [
    {
     "name": "stdout",
     "output_type": "stream",
     "text": [
      "range(5, 60)\n"
     ]
    }
   ],
   "source": [
    "loopBreak()"
   ]
  },
  {
   "cell_type": "code",
   "execution_count": 87,
   "metadata": {},
   "outputs": [],
   "source": [
    "def loopContinue():\n",
    "    for x in range(5,10):\n",
    "        if x == 7:\n",
    "            continue\n",
    "        print(\"O valor de X é:\",x)"
   ]
  },
  {
   "cell_type": "code",
   "execution_count": 88,
   "metadata": {},
   "outputs": [
    {
     "name": "stdout",
     "output_type": "stream",
     "text": [
      "O valor de X é: 5\n",
      "O valor de X é: 6\n",
      "O valor de X é: 8\n",
      "O valor de X é: 9\n"
     ]
    }
   ],
   "source": [
    "loopContinue()"
   ]
  },
  {
   "cell_type": "code",
   "execution_count": null,
   "metadata": {},
   "outputs": [
    {
     "ename": "",
     "evalue": "",
     "output_type": "error",
     "traceback": [
      "\u001b[1;31mThe Kernel crashed while executing code in the current cell or a previous cell. \n",
      "\u001b[1;31mPlease review the code in the cell(s) to identify a possible cause of the failure. \n",
      "\u001b[1;31mClick <a href='https://aka.ms/vscodeJupyterKernelCrash'>here</a> for more info. \n",
      "\u001b[1;31mView Jupyter <a href='command:jupyter.viewOutput'>log</a> for further details."
     ]
    }
   ],
   "source": [
    "class minhaClasse():\n",
    "    def __init__(self):\n",
    "        self.meuatributo = \"Passou pelo construtor!!!\"\n",
    "\n",
    "        def meumetodo(self):\n",
    "            print(\"Passou pelo meu método\")\n",
    "\n",
    "        def meumetodo2(self, valor):\n",
    "            self.outroatributo = valor\n",
    "            print(self.outroatributo)\n",
    "    "
   ]
  },
  {
   "cell_type": "code",
   "execution_count": null,
   "metadata": {},
   "outputs": [],
   "source": [
    "#Exercício 12: Crie uma função que receba uma string e retorne a string invertida."
   ]
  }
 ],
 "metadata": {
  "kernelspec": {
   "display_name": "Python 3",
   "language": "python",
   "name": "python3"
  },
  "language_info": {
   "codemirror_mode": {
    "name": "ipython",
    "version": 3
   },
   "file_extension": ".py",
   "mimetype": "text/x-python",
   "name": "python",
   "nbconvert_exporter": "python",
   "pygments_lexer": "ipython3",
   "version": "3.13.1"
  }
 },
 "nbformat": 4,
 "nbformat_minor": 2
}
