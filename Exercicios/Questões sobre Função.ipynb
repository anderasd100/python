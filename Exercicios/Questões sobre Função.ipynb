{
 "cells": [
  {
   "cell_type": "code",
   "execution_count": null,
   "metadata": {},
   "outputs": [],
   "source": [
    "\"\"\"Exercícios Iniciantes\n",
    "Exercício 1: Crie uma função chamada saudar que receba um nome e imprima \"Olá, [nome]!\".\n",
    "Exercício 2: Crie uma função que receba dois números e retorne a soma deles.\n",
    "Exercício 3: Crie uma função que receba um número e retorne se ele é par ou ímpar.\n",
    "Exercício 4: Crie uma função que receba um número e retorne o seu quadrado.\n",
    "Exercício 5: Crie uma função chamada triplicar que receba um número e retorne o valor triplicado.\n",
    "Exercício 6: Crie uma função que receba um número e retorne a raiz quadrada dele.\n",
    "Exercício 7: Crie uma função que receba uma lista de números e retorne o maior valor da lista.\n",
    "Exercício 8: Crie uma função que receba uma lista de números e retorne o menor valor da lista.\n",
    "Exercício 9: Crie uma função que recebe uma lista de números e retorna a média deles.\n",
    "Exercício 10: Crie uma função que receba uma string e retorne a quantidade de caracteres.\n",
    "Exercícios Intermediários\n",
    "Exercício 11: Crie uma função que receba uma lista de números e retorne a soma de todos os números positivos.\n",
    "Exercício 12: Crie uma função que receba uma string e retorne a string invertida.\n",
    "Exercício 13: Crie uma função que receba dois números e retorne a divisão deles, com tratamento para divisão por zero.\n",
    "Exercício 14: Crie uma função que receba um número inteiro e retorne se ele é um número primo.\n",
    "Exercício 15: Crie uma função que receba uma lista de strings e retorne a lista ordenada em ordem alfabética.\n",
    "Exercício 16: Crie uma função que receba um número e retorne uma lista com todos os números de 1 até o número recebido.\n",
    "Exercício 17: Crie uma função que receba uma lista de números e retorne uma nova lista com os números ao quadrado.\n",
    "Exercício 18: Crie uma função que receba um número e retorne um dicionário com a chave 'dobro' e 'triplo' do número.\n",
    "Exercício 19: Crie uma função que recebe uma lista de tuplas e retorna a tupla com o maior valor na segunda posição.\n",
    "Exercício 20: Crie uma função que recebe um valor e retorne a quantidade de dígitos desse número.\n",
    "Exercícios Avançados\n",
    "Exercício 21: Crie uma função que receba uma lista de números e retorne a mediana dessa lista.\n",
    "Exercício 22: Crie uma função que receba uma lista de números e retorne uma nova lista com todos os números que são divisíveis por 3.\n",
    "Exercício 23: Crie uma função que receba um texto e retorne a quantidade de palavras nesse texto.\n",
    "Exercício 24: Crie uma função que recebe duas listas de números e retorna uma lista contendo apenas os números que estão presentes nas duas listas.\n",
    "Exercício 25: Crie uma função que receba uma lista de números e retorne um dicionário onde a chave seja o número e o valor seja o número de vezes que ele aparece na lista. \"\"\""
   ]
  }
 ],
 "metadata": {
  "language_info": {
   "name": "python"
  }
 },
 "nbformat": 4,
 "nbformat_minor": 2
}
