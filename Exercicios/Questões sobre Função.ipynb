{
 "cells": [
  {
   "cell_type": "code",
   "execution_count": 1,
   "metadata": {},
   "outputs": [
    {
     "data": {
      "text/plain": [
       "'Exercícios Iniciantes\\nExercício 1: Crie uma função chamada saudar que receba um nome e imprima \"Olá, [nome]!\".\\nExercício 2: Crie uma função que receba dois números e retorne a soma deles.\\nExercício 3: Crie uma função que receba um número e retorne se ele é par ou ímpar.\\nExercício 4: Crie uma função que receba um número e retorne o seu quadrado.\\nExercício 5: Crie uma função chamada triplicar que receba um número e retorne o valor triplicado.\\nExercício 6: Crie uma função que receba um número e retorne a raiz quadrada dele.\\nExercício 7: Crie uma função que receba uma lista de números e retorne o maior valor da lista.\\nExercício 8: Crie uma função que receba uma lista de números e retorne o menor valor da lista.\\nExercício 9: Crie uma função que recebe uma lista de números e retorna a média deles.\\nExercício 10: Crie uma função que receba uma string e retorne a quantidade de caracteres.\\nExercícios Intermediários\\nExercício 11: Crie uma função que receba uma lista de números e retorne a soma de todos os números positivos.\\nExercício 12: Crie uma função que receba uma string e retorne a string invertida.\\nExercício 13: Crie uma função que receba dois números e retorne a divisão deles, com tratamento para divisão por zero.\\nExercício 14: Crie uma função que receba um número inteiro e retorne se ele é um número primo.\\nExercício 15: Crie uma função que receba uma lista de strings e retorne a lista ordenada em ordem alfabética.\\nExercício 16: Crie uma função que receba um número e retorne uma lista com todos os números de 1 até o número recebido.\\nExercício 17: Crie uma função que receba uma lista de números e retorne uma nova lista com os números ao quadrado.\\nExercício 18: Crie uma função que receba um número e retorne um dicionário com a chave \\'dobro\\' e \\'triplo\\' do número.\\nExercício 19: Crie uma função que recebe uma lista de tuplas e retorna a tupla com o maior valor na segunda posição.\\nExercício 20: Crie uma função que recebe um valor e retorne a quantidade de dígitos desse número.\\nExercícios Avançados\\nExercício 21: Crie uma função que receba uma lista de números e retorne a mediana dessa lista.\\nExercício 22: Crie uma função que receba uma lista de números e retorne uma nova lista com todos os números que são divisíveis por 3.\\nExercício 23: Crie uma função que receba um texto e retorne a quantidade de palavras nesse texto.\\nExercício 24: Crie uma função que recebe duas listas de números e retorna uma lista contendo apenas os números que estão presentes nas duas listas.\\nExercício 25: Crie uma função que receba uma lista de números e retorne um dicionário onde a chave seja o número e o valor seja o número de vezes que ele aparece na lista. '"
      ]
     },
     "execution_count": 1,
     "metadata": {},
     "output_type": "execute_result"
    }
   ],
   "source": [
    "\"\"\"Exercícios Iniciantes\n",
    "Exercício 1: Crie uma função chamada saudar que receba um nome e imprima \"Olá, [nome]!\".\n",
    "Exercício 2: Crie uma função que receba dois números e retorne a soma deles.\n",
    "Exercício 3: Crie uma função que receba um número e retorne se ele é par ou ímpar.\n",
    "Exercício 4: Crie uma função que receba um número e retorne o seu quadrado.\n",
    "Exercício 5: Crie uma função chamada triplicar que receba um número e retorne o valor triplicado.\n",
    "Exercício 6: Crie uma função que receba um número e retorne a raiz quadrada dele.\n",
    "Exercício 7: Crie uma função que receba uma lista de números e retorne o maior valor da lista.\n",
    "Exercício 8: Crie uma função que receba uma lista de números e retorne o menor valor da lista.\n",
    "Exercício 9: Crie uma função que recebe uma lista de números e retorna a média deles.\n",
    "Exercício 10: Crie uma função que receba uma string e retorne a quantidade de caracteres.\n",
    "Exercícios Intermediários\n",
    "Exercício 11: Crie uma função que receba uma lista de números e retorne a soma de todos os números positivos.\n",
    "Exercício 12: Crie uma função que receba uma string e retorne a string invertida.\n",
    "Exercício 13: Crie uma função que receba dois números e retorne a divisão deles, com tratamento para divisão por zero.\n",
    "Exercício 14: Crie uma função que receba um número inteiro e retorne se ele é um número primo.\n",
    "Exercício 15: Crie uma função que receba uma lista de strings e retorne a lista ordenada em ordem alfabética.\n",
    "Exercício 16: Crie uma função que receba um número e retorne uma lista com todos os números de 1 até o número recebido.\n",
    "Exercício 17: Crie uma função que receba uma lista de números e retorne uma nova lista com os números ao quadrado.\n",
    "Exercício 18: Crie uma função que receba um número e retorne um dicionário com a chave 'dobro' e 'triplo' do número.\n",
    "Exercício 19: Crie uma função que recebe uma lista de tuplas e retorna a tupla com o maior valor na segunda posição.\n",
    "Exercício 20: Crie uma função que recebe um valor e retorne a quantidade de dígitos desse número.\n",
    "Exercícios Avançados\n",
    "Exercício 21: Crie uma função que receba uma lista de números e retorne a mediana dessa lista.\n",
    "Exercício 22: Crie uma função que receba uma lista de números e retorne uma nova lista com todos os números que são divisíveis por 3.\n",
    "Exercício 23: Crie uma função que receba um texto e retorne a quantidade de palavras nesse texto.\n",
    "Exercício 24: Crie uma função que recebe duas listas de números e retorna uma lista contendo apenas os números que estão presentes nas duas listas.\n",
    "Exercício 25: Crie uma função que receba uma lista de números e retorne um dicionário onde a chave seja o número e o valor seja o número de vezes que ele aparece na lista. \"\"\"\n"
   ]
  },
  {
   "cell_type": "code",
   "execution_count": 2,
   "metadata": {},
   "outputs": [],
   "source": [
    "#Exercício 1: Crie uma função chamada saudar que receba um nome e imprima \"Olá, [nome]!\"."
   ]
  },
  {
   "cell_type": "code",
   "execution_count": 3,
   "metadata": {},
   "outputs": [],
   "source": [
    "def saudacao():\n",
    "    nome = input(\"Informe seu nome: \")\n",
    "    saudacao = print(\"Olá,\",nome)\n",
    "    return saudacao"
   ]
  },
  {
   "cell_type": "code",
   "execution_count": 4,
   "metadata": {},
   "outputs": [
    {
     "name": "stdout",
     "output_type": "stream",
     "text": [
      "Olá, Anderson\n"
     ]
    }
   ],
   "source": [
    "saudacao()"
   ]
  },
  {
   "cell_type": "code",
   "execution_count": 6,
   "metadata": {},
   "outputs": [],
   "source": [
    "#Exercício 2: Crie uma função que receba dois números e retorne a soma deles.\n",
    "def soma():\n",
    "    num1 = int(input(\"Informe o primeiro número: \"))\n",
    "    num2 = int(input(\"Informe o segundo número: \"))\n",
    "    retorna_soma = print(\"A soma dos valores informados é:\",num1 + num2)\n",
    "    return retorna_soma"
   ]
  },
  {
   "cell_type": "code",
   "execution_count": 7,
   "metadata": {},
   "outputs": [
    {
     "name": "stdout",
     "output_type": "stream",
     "text": [
      "A soma dos valores informados é: 30\n"
     ]
    }
   ],
   "source": [
    "soma()"
   ]
  },
  {
   "cell_type": "code",
   "execution_count": 8,
   "metadata": {},
   "outputs": [],
   "source": [
    "#Exercício 3: Crie uma função que receba um número e retorne se ele é par ou ímpar.\n",
    "def parimpar():\n",
    "    num = int(input(\"Informe um número: \"))\n",
    "    if num % 2 == 0:\n",
    "        print(\"O número informado é par\")\n",
    "    else:\n",
    "        print(\"O número informado é impar\")\n",
    "        "
   ]
  },
  {
   "cell_type": "code",
   "execution_count": 10,
   "metadata": {},
   "outputs": [
    {
     "name": "stdout",
     "output_type": "stream",
     "text": [
      "O número informado é impar\n"
     ]
    }
   ],
   "source": [
    "parimpar()"
   ]
  },
  {
   "cell_type": "code",
   "execution_count": null,
   "metadata": {},
   "outputs": [],
   "source": []
  }
 ],
 "metadata": {
  "kernelspec": {
   "display_name": "Python 3",
   "language": "python",
   "name": "python3"
  },
  "language_info": {
   "codemirror_mode": {
    "name": "ipython",
    "version": 3
   },
   "file_extension": ".py",
   "mimetype": "text/x-python",
   "name": "python",
   "nbconvert_exporter": "python",
   "pygments_lexer": "ipython3",
   "version": "3.13.1"
  }
 },
 "nbformat": 4,
 "nbformat_minor": 2
}
