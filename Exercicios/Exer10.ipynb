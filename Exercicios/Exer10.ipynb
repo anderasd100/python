{
 "cells": [
  {
   "cell_type": "code",
   "execution_count": 5,
   "metadata": {},
   "outputs": [
    {
     "name": "stdout",
     "output_type": "stream",
     "text": [
      "Os números são iguais!!\n"
     ]
    }
   ],
   "source": [
    "#Faca um programa que receba dois numeros e mostre o maior. Se por acaso, os dois\n",
    " #numeros forem iguais, imprima a mensagem Numeros iguais.\n",
    "\n",
    "num = float(input(\"Informe um número: \"))\n",
    "num2 = float(input(\"Informe o segundo número: \"))\n",
    "if num > num2:\n",
    "    print(\"O número maior é:\", num)\n",
    "elif num2 < num:\n",
    "    print(\"O número maior é:\", num2)\n",
    "else:\n",
    "        print(\"Os números são iguais!!\")"
   ]
  },
  {
   "cell_type": "code",
   "execution_count": null,
   "metadata": {},
   "outputs": [],
   "source": []
  }
 ],
 "metadata": {
  "kernelspec": {
   "display_name": ".venv",
   "language": "python",
   "name": "python3"
  },
  "language_info": {
   "codemirror_mode": {
    "name": "ipython",
    "version": 3
   },
   "file_extension": ".py",
   "mimetype": "text/x-python",
   "name": "python",
   "nbconvert_exporter": "python",
   "pygments_lexer": "ipython3",
   "version": "3.13.1"
  }
 },
 "nbformat": 4,
 "nbformat_minor": 2
}
