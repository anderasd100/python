{
 "cells": [
  {
   "cell_type": "code",
   "execution_count": 3,
   "metadata": {},
   "outputs": [
    {
     "name": "stdout",
     "output_type": "stream",
     "text": [
      "Anderson\n",
      "Abreu\n",
      "Rabelo\n",
      "Anderson\n",
      "Anderson\n",
      "Anderson\n",
      "Anderson\n",
      "32 anos\n",
      "1.75 altura\n"
     ]
    }
   ],
   "source": [
    "#Python permite atribuir valores a várias variáveis em uma linha:\n",
    "\n",
    "x, y , z = 'Anderson', 'Abreu', 'Rabelo'\n",
    "print(x)\n",
    "print(y)\n",
    "print(z)\n",
    "\n",
    "#Um Valor para Várias Variáveis\n",
    "#E você pode atribuir o igual valor para várias variáveis em uma linha:\n",
    "\n",
    "x = y = z = 'Anderson'\n",
    "print(x)\n",
    "print(y)\n",
    "print(z)\n",
    "\n",
    "\n",
    "#Desempacotar uma Coleção\n",
    "#Se você tem uma coleção de valores em uma lista, tupla etc. Python permite extrair os valores em variáveis. Isso é chamado desembalar.\n",
    "\n",
    "anderson = ['Anderson', '32 anos', '1.75 altura']\n",
    "x, y , z = anderson\n",
    "print(x)\n",
    "print(y)\n",
    "print(z)"
   ]
  }
 ],
 "metadata": {
  "kernelspec": {
   "display_name": ".venv",
   "language": "python",
   "name": "python3"
  },
  "language_info": {
   "codemirror_mode": {
    "name": "ipython",
    "version": 3
   },
   "file_extension": ".py",
   "mimetype": "text/x-python",
   "name": "python",
   "nbconvert_exporter": "python",
   "pygments_lexer": "ipython3",
   "version": "3.13.1"
  }
 },
 "nbformat": 4,
 "nbformat_minor": 2
}
