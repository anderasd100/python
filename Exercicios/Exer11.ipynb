{
 "cells": [
  {
   "cell_type": "code",
   "execution_count": 4,
   "metadata": {},
   "outputs": [
    {
     "name": "stdout",
     "output_type": "stream",
     "text": [
      "Sua média é:  0.8571428571428571 parabéns!!\n"
     ]
    }
   ],
   "source": [
    "#Faca um programa que leia 2 notas de um aluno, verifique se as notas sao validas e\n",
    " #exiba na tela a media destas notas. Uma nota valida deve ser, obrigatoriamente, um\n",
    " #valor entre 0.0 e 10.0, onde caso a nota nao possua um valor valido, este fato deve ser\n",
    " #informado ao usuario e o programa termina\n",
    "\n",
    "\n",
    "nota1 = float(input(\"Informe a primeira nota: \"))\n",
    "nota2 = float(input(\"Informe a segunda nota: \"))\n",
    "media = nota1 / nota2\n",
    "if media >= 0.0 and media <= 10.00:\n",
    "    print(\"Sua média é: \",media, \"parabéns!!\")\n",
    "else:\n",
    "    print(\"Sua nota não é válida!!!\")\n"
   ]
  }
 ],
 "metadata": {
  "kernelspec": {
   "display_name": ".venv",
   "language": "python",
   "name": "python3"
  },
  "language_info": {
   "codemirror_mode": {
    "name": "ipython",
    "version": 3
   },
   "file_extension": ".py",
   "mimetype": "text/x-python",
   "name": "python",
   "nbconvert_exporter": "python",
   "pygments_lexer": "ipython3",
   "version": "3.13.1"
  }
 },
 "nbformat": 4,
 "nbformat_minor": 2
}
