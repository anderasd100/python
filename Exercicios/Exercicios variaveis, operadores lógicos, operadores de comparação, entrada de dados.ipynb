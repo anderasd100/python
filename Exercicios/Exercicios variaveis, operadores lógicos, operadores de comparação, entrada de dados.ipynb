{
 "cells": [
  {
   "cell_type": "code",
   "execution_count": 1,
   "metadata": {},
   "outputs": [],
   "source": [
    "\"\"\"Escreva um programa que leia um numero inteiro maior do que zero e devolva, na tela, a\n",
    " soma de todos os seus algarismos. Por exemplo, ao numero 251 correspondera o valor\n",
    " 8 (2 + 5 + 1). Se o numero lido nao for maior do que zero, o programa terminara com a\n",
    " mensagem “Numero invalido”.\"\"\"\n",
    "\n",
    "def maiorzero():\n",
    "    numero = int(input(\"Informe um número: \"))\n",
    "    soma = 0\n",
    "    while numero > 0:\n",
    "        algor = numero % 10\n",
    "        soma += algor\n",
    "        numero //= 10\n",
    "        print(f\"A soma dos algorismo é: {soma}\")\n",
    "\n"
   ]
  },
  {
   "cell_type": "code",
   "execution_count": 5,
   "metadata": {},
   "outputs": [
    {
     "name": "stdout",
     "output_type": "stream",
     "text": [
      "A soma dos algorismo é: 6\n"
     ]
    }
   ],
   "source": [
    "maiorzero()"
   ]
  },
  {
   "cell_type": "code",
   "execution_count": 6,
   "metadata": {},
   "outputs": [],
   "source": [
    "#utilizando variaveis, operadores lógicos, operadores de comparação, entrada de dados."
   ]
  },
  {
   "cell_type": "code",
   "execution_count": 12,
   "metadata": {},
   "outputs": [],
   "source": [
    "\"\"\"Ler um numero inteiro. Se o numero lido for negativo, escreva a mensagem “Numero\n",
    " invalido”. Se o numero for positivo, calcular o logaritmo deste numero\"\"\"\n",
    "import math\n",
    "\n",
    "def numero_inteiro():\n",
    "    numero = int(input(\"Informe um número: \"))\n",
    "    if numero < 0:\n",
    "        print(\"Número inválido\")\n",
    "    else:\n",
    "        logaritmo = math.log(numero)\n",
    "        print(f\"O logaritmo de {numero} é: {logaritmo}\")"
   ]
  },
  {
   "cell_type": "code",
   "execution_count": 14,
   "metadata": {},
   "outputs": [
    {
     "name": "stdout",
     "output_type": "stream",
     "text": [
      "O logaritmo de 100 é: 4.605170185988092\n"
     ]
    }
   ],
   "source": [
    "numero_inteiro()"
   ]
  },
  {
   "cell_type": "code",
   "execution_count": 16,
   "metadata": {},
   "outputs": [
    {
     "name": "stdout",
     "output_type": "stream",
     "text": [
      "2.0\n"
     ]
    }
   ],
   "source": [
    "import math\n",
    "resultado = math.log(100,10)\n",
    "print(resultado)"
   ]
  },
  {
   "cell_type": "code",
   "execution_count": 18,
   "metadata": {},
   "outputs": [
    {
     "data": {
      "text/plain": [
       "'1. Utilizando Variáveis e Entrada de Dados\\na) Crie um programa que leia o nome de uma pessoa e sua idade. Depois, exiba a mensagem: \"Olá, [nome]! Você tem [idade] anos.\"\\n\\nb) Leia um número inteiro e armazene-o em uma variável. Se o número for maior que 10, exiba a mensagem \"Maior que 10\", caso contrário, exiba \"Menor ou igual a 10'"
      ]
     },
     "execution_count": 18,
     "metadata": {},
     "output_type": "execute_result"
    }
   ],
   "source": [
    "\"\"\"1. Utilizando Variáveis e Entrada de Dados\n",
    "a) Crie um programa que leia o nome de uma pessoa e sua idade. Depois, exiba a mensagem: \"Olá, [nome]! Você tem [idade] anos.\"\n",
    "\n",
    "b) Leia um número inteiro e armazene-o em uma variável. Se o número for maior que 10, exiba a mensagem \"Maior que 10\", caso contrário, exiba \"Menor ou igual a 10\"\"\""
   ]
  },
  {
   "cell_type": "code",
   "execution_count": 20,
   "metadata": {},
   "outputs": [
    {
     "name": "stdout",
     "output_type": "stream",
     "text": [
      "Olá, Anderson!\n",
      "você tem 31 anos.\n"
     ]
    }
   ],
   "source": [
    "nome = input(\"Informe seu nome: \")\n",
    "idade = int(input(\"Informe sua idade: \"))\n",
    "print(f\"Olá, {nome}!\\nvocê tem {idade} anos.\")"
   ]
  },
  {
   "cell_type": "code",
   "execution_count": 22,
   "metadata": {},
   "outputs": [
    {
     "name": "stdout",
     "output_type": "stream",
     "text": [
      "Menor ou igual a 10\n"
     ]
    }
   ],
   "source": [
    "numero = int(input(\"Informe um número: \"))\n",
    "if numero > 10:\n",
    "    print(\"Maior que 10\")\n",
    "else:\n",
    "    print(\"Menor ou igual a 10\")"
   ]
  },
  {
   "cell_type": "code",
   "execution_count": 23,
   "metadata": {},
   "outputs": [
    {
     "data": {
      "text/plain": [
       "'2. Operadores Lógicos\\na) Crie um programa que leia dois números inteiros e verifique:\\n\\nSe ambos são positivos.\\nSe ao menos um deles é negativo.\\nb) Crie um programa que leia a idade de uma pessoa e verifique se ela é maior de idade (18 anos ou mais) e se é menor de 30 anos. Se as duas condições forem verdadeiras, exiba \"Você é jovem!\".'"
      ]
     },
     "execution_count": 23,
     "metadata": {},
     "output_type": "execute_result"
    }
   ],
   "source": [
    "\"\"\"2. Operadores Lógicos\n",
    "a) Crie um programa que leia dois números inteiros e verifique:\n",
    "\n",
    "Se ambos são positivos.\n",
    "Se ao menos um deles é negativo.\n",
    "b) Crie um programa que leia a idade de uma pessoa e verifique se ela é maior de idade (18 anos ou mais) e se é menor de 30 anos. Se as duas condições forem verdadeiras, exiba \"Você é jovem!\".\"\"\""
   ]
  },
  {
   "cell_type": "code",
   "execution_count": 33,
   "metadata": {},
   "outputs": [],
   "source": [
    "def numeros_inteiros():\n",
    " num1 = int(input(\"Informe o primeiro número: \"))\n",
    " num2 = int(input(\"Informe o segundo número: \"))\n",
    " if num1 > 0 and num2 > 0:\n",
    "    print(f\"Ambos são números positivos: {num1}, {num2}\")\n",
    " elif num1 < 0:\n",
    "    print(f\"número: {num1} é negativo\")\n",
    " elif num2 <0:\n",
    "    print(f\"número: {num2} é negativo\")\n"
   ]
  },
  {
   "cell_type": "code",
   "execution_count": 35,
   "metadata": {},
   "outputs": [
    {
     "name": "stdout",
     "output_type": "stream",
     "text": [
      "número: -10 é negativo\n"
     ]
    }
   ],
   "source": [
    "numeros_inteiros()"
   ]
  },
  {
   "cell_type": "code",
   "execution_count": 36,
   "metadata": {},
   "outputs": [],
   "source": [
    "def idade():\n",
    "    idadep = int(input(\"Informe sua idade: \"))\n",
    "    if idadep > 18 and idadep < 30:\n",
    "        print(\"Você é jovem!\")\n",
    "    else:\n",
    "        print(\"Você é velho(a)!\")"
   ]
  },
  {
   "cell_type": "code",
   "execution_count": 37,
   "metadata": {},
   "outputs": [
    {
     "name": "stdout",
     "output_type": "stream",
     "text": [
      "Você é velho(a)!\n"
     ]
    }
   ],
   "source": [
    "idade()"
   ]
  },
  {
   "cell_type": "code",
   "execution_count": null,
   "metadata": {},
   "outputs": [],
   "source": [
    "\"\"\"3. Operadores de Comparação\n",
    "a) Crie um programa que leia dois números e compare-os. Exiba a mensagem correspondente:\n",
    "\n",
    "\"O primeiro número é maior.\"\n",
    "\"O segundo número é maior.\"\n",
    "\"Os números são iguais.\"\n",
    "b) Leia o valor de uma variável chamada salario. Se o salário for maior ou igual a 2000, exiba \"Você está na faixa salarial alta\". Caso contrário, exiba \"Você está na faixa salarial baixa\".\"\"\""
   ]
  },
  {
   "cell_type": "code",
   "execution_count": null,
   "metadata": {},
   "outputs": [],
   "source": [
    "def numeros_compa():\n",
    " num1 = int(input(\"Informe o primeiro número: \"))\n",
    " num2 = int(input(\"Informe o segundo número: \"))\n",
    " if num1 > num2:\n",
    "    print(f\"O número: {num1} é maior do que o número: {num2}\")\n",
    " elif num2 > num1:\n",
    "    print(f\"{num2} é maior do que número: {num1} \")\n",
    " elif num1 == num2:\n",
    "    print(\"Os números são iguais!!\")\n"
   ]
  },
  {
   "cell_type": "code",
   "execution_count": 10,
   "metadata": {},
   "outputs": [
    {
     "name": "stdout",
     "output_type": "stream",
     "text": [
      "105 é maior do que  número: 100 \n"
     ]
    }
   ],
   "source": [
    "numeros_compa()"
   ]
  },
  {
   "cell_type": "code",
   "execution_count": 11,
   "metadata": {},
   "outputs": [],
   "source": [
    "def salario():\n",
    "    sala = float(input(\"Informe seu salário:\"))\n",
    "    if sala >= 2000:\n",
    "        print(\"Você está na faixa salarial alta\")\n",
    "    else:\n",
    "        print(\"Você está na faixa salarial baixa\")"
   ]
  },
  {
   "cell_type": "code",
   "execution_count": 12,
   "metadata": {},
   "outputs": [
    {
     "name": "stdout",
     "output_type": "stream",
     "text": [
      "Você está na faixa salarial alta\n"
     ]
    }
   ],
   "source": [
    "salario()"
   ]
  },
  {
   "cell_type": "code",
   "execution_count": 1,
   "metadata": {},
   "outputs": [
    {
     "data": {
      "text/plain": [
       "'4. Combinação de Operadores Lógicos e de Comparação\\na) Crie um programa que leia a idade de uma pessoa e verifique se ela é maior ou igual a 18 anos e se sua altura é maior ou igual a 1.60 metros. Se ambas as condições forem verdadeiras, exiba \"Você pode se inscrever no concurso\". Caso contrário, exiba \"Você não pode se inscrever no concurso\".\\n\\nb) Escreva um programa que leia um número e verifique se ele está entre 50 e 100 (inclusive). Se o número estiver neste intervalo, exiba \"Número válido\", caso contrário, exiba \"Número fora do intervalo\".\\n\\n5. Combinando Entrada de Dados com Operadores Lógicos e de Comparação\\na) Peça ao usuário para digitar dois números inteiros. O programa deve verificar se:\\n\\nO primeiro número é maior que 10 e o segundo número é menor que 5.\\nSe a condição for verdadeira, exiba \"Condição atendida\", caso contrário, exiba \"Condição não atendida\".\\nb) Solicite ao usuário a entrada de dois números inteiros. Se os dois números forem iguais ou ambos forem negativos, exiba a mensagem \"Condição verdadeira\". Caso contrário, exiba \"Condição falsa\".'"
      ]
     },
     "execution_count": 1,
     "metadata": {},
     "output_type": "execute_result"
    }
   ],
   "source": [
    "\"\"\"4. Combinação de Operadores Lógicos e de Comparação\n",
    "a) Crie um programa que leia a idade de uma pessoa e verifique se ela é maior ou igual a 18 anos e se sua altura é maior ou igual a 1.60 metros. Se ambas as condições forem verdadeiras, exiba \"Você pode se inscrever no concurso\". Caso contrário, exiba \"Você não pode se inscrever no concurso\".\n",
    "\n",
    "b) Escreva um programa que leia um número e verifique se ele está entre 50 e 100 (inclusive). Se o número estiver neste intervalo, exiba \"Número válido\", caso contrário, exiba \"Número fora do intervalo\".\n",
    "\n",
    "5. Combinando Entrada de Dados com Operadores Lógicos e de Comparação\n",
    "a) Peça ao usuário para digitar dois números inteiros. O programa deve verificar se:\n",
    "\n",
    "O primeiro número é maior que 10 e o segundo número é menor que 5.\n",
    "Se a condição for verdadeira, exiba \"Condição atendida\", caso contrário, exiba \"Condição não atendida\".\n",
    "b) Solicite ao usuário a entrada de dois números inteiros. Se os dois números forem iguais ou ambos forem negativos, exiba a mensagem \"Condição verdadeira\". Caso contrário, exiba \"Condição falsa\".\"\"\""
   ]
  },
  {
   "cell_type": "code",
   "execution_count": 2,
   "metadata": {},
   "outputs": [
    {
     "name": "stdout",
     "output_type": "stream",
     "text": [
      "Python is fantastic\n",
      "Python is awesome\n"
     ]
    }
   ],
   "source": [
    "x = \"awesome\"\n",
    "\n",
    "def myfunc():\n",
    "  x = \"fantastic\"\n",
    "  print(\"Python is \" + x)\n",
    "\n",
    "myfunc()\n",
    "\n",
    "print(\"Python is \" + x)"
   ]
  },
  {
   "cell_type": "code",
   "execution_count": null,
   "metadata": {},
   "outputs": [
    {
     "data": {
      "text/plain": [
       "'1. Sintaxe Básica e Declaração de Variáveis\\nExercício 1: Crie uma variável chamada nome e atribua a ela seu nome. Em seguida, crie outra variável chamada idade e atribua a sua idade. Exiba esses valores no console.\\nExercício 2: Declare uma variável chamada numero e atribua o valor 10. Depois, adicione 5 ao valor da variável numero e mostre o novo valor no console.\\n2. Atribuição de Múltiplos Valores\\nExercício 3: Crie três variáveis chamadas a, b e c, e atribua a elas os valores 5, 10 e 15, respectivamente, em uma única linha.\\nExercício 4: Atribua os valores 2, 4, e 6 a três variáveis chamadas x, y e z em uma única linha. Depois, troque os valores de x e z e mostre o resultado no console.\\n3. Variáveis de Saída\\nExercício 5: Crie duas variáveis chamadas preco e quantidade, atribua valores a elas e calcule o total (multiplicando preco por quantidade). Exiba o total no console.\\nExercício 6: Crie uma variável nome e outra sobrenome. Use essas variáveis para formar uma string que combine nome e sobrenome e exiba no console.\\n4. Variáveis Globais\\nExercício 7: Crie uma variável global chamada contador e uma função chamada incrementar, que aumenta o valor de contador em 1. Chame a função incrementar duas vezes e depois exiba o valor de contador.\\nExercício 8: Crie uma variável global chamada saldo e uma função chamada depositar, que adiciona um valor ao saldo. Teste a função depositar e exiba o saldo após cada operação.\\n5. Desafio\\nExercício 9: Crie uma função chamada calcularImposto que recebe como parâmetro o valor de uma compra e retorna o valor do imposto (20% sobre o valor). Use essa função dentro de outra função chamada totalCompra para calcular o valor total da compra, incluindo o imposto. Exiba o valor total da compra no console.'"
      ]
     },
     "execution_count": 3,
     "metadata": {},
     "output_type": "execute_result"
    }
   ],
   "source": [
    "\"\"\"1. Sintaxe Básica e Declaração de Variáveis\n",
    "Exercício 1: Crie uma variável chamada nome e atribua a ela seu nome. Em seguida, crie outra variável chamada idade e atribua a sua idade. Exiba esses valores no console.\n",
    "Exercício 2: Declare uma variável chamada numero e atribua o valor 10. Depois, adicione 5 ao valor da variável numero e mostre o novo valor no console.\n",
    "2. Atribuição de Múltiplos Valores\n",
    "Exercício 3: Crie três variáveis chamadas a, b e c, e atribua a elas os valores 5, 10 e 15, respectivamente, em uma única linha.\n",
    "Exercício 4: Atribua os valores 2, 4, e 6 a três variáveis chamadas x, y e z em uma única linha. Depois, troque os valores de x e z e mostre o resultado no console.\n",
    "3. Variáveis de Saída\n",
    "Exercício 5: Crie duas variáveis chamadas preco e quantidade, atribua valores a elas e calcule o total (multiplicando preco por quantidade). Exiba o total no console.\n",
    "Exercício 6: Crie uma variável nome e outra sobrenome. Use essas variáveis para formar uma string que combine nome e sobrenome e exiba no console.\n",
    "4. Variáveis Globais\n",
    "Exercício 7: Crie uma variável global chamada contador e uma função chamada incrementar, que aumenta o valor de contador em 1. Chame a função incrementar duas vezes e depois exiba o valor de contador.\n",
    "Exercício 8: Crie uma variável global chamada saldo e uma função chamada depositar, que adiciona um valor ao saldo. Teste a função depositar e exiba o saldo após cada operação.\n",
    "5. Desafio\n",
    "Exercício 9: Crie uma função chamada calcularImposto que recebe como parâmetro o valor de uma compra e retorna o valor do imposto (20% sobre o valor). Use essa função dentro de outra função chamada totalCompra para calcular o valor total da compra, incluindo o imposto. Exiba o valor total da compra no console.\"\"\""
   ]
  },
  {
   "cell_type": "code",
   "execution_count": 8,
   "metadata": {},
   "outputs": [
    {
     "name": "stdout",
     "output_type": "stream",
     "text": [
      "Nome: Anderson\n",
      "idade: 31\n"
     ]
    }
   ],
   "source": [
    "# Sintaxe Básica e Declaração de Variáveis\n",
    "#Exercício 1: Crie uma variável chamada nome e atribua a ela seu nome. Em seguida, crie outra variável chamada idade e atribua a sua idade. Exiba esses valores no console.\n",
    "\n",
    "nome = \"Anderson\"\n",
    "idade = 31\n",
    "print(f\"Nome: {nome}\\nidade: {idade}\")"
   ]
  },
  {
   "cell_type": "code",
   "execution_count": 9,
   "metadata": {},
   "outputs": [
    {
     "name": "stdout",
     "output_type": "stream",
     "text": [
      "15\n"
     ]
    }
   ],
   "source": [
    "#Exercício 2: Declare uma variável chamada numero e atribua o valor 10. Depois, adicione 5 ao valor da variável numero e mostre o novo valor no console.\n",
    "numero = 10\n",
    "print(numero + 5)"
   ]
  },
  {
   "cell_type": "code",
   "execution_count": 14,
   "metadata": {},
   "outputs": [
    {
     "name": "stdout",
     "output_type": "stream",
     "text": [
      "a = 5\n",
      "b= 10\n",
      "c= 15\n"
     ]
    }
   ],
   "source": [
    "#2. Atribuição de Múltiplos Valores\n",
    "#Exercício 3: Crie três variáveis chamadas a, b e c, e atribua a elas os valores 5, 10 e 15, respectivamente, em uma única linha.\n",
    "\n",
    "a, b, c = 5, 10 , 15\n",
    "print(f\"a = {a}\\nb= {b}\\nc= {c}\")"
   ]
  },
  {
   "cell_type": "code",
   "execution_count": 16,
   "metadata": {},
   "outputs": [
    {
     "name": "stdout",
     "output_type": "stream",
     "text": [
      "x = 4\n",
      "y = 4\n",
      "z = 2\n"
     ]
    }
   ],
   "source": [
    "#Exercício 4: Atribua os valores 2, 4, e 6 a três variáveis chamadas x, y e z em uma única linha. Depois, troque os valores de x e z e mostre o resultado no console.\n",
    "x, y, z = 2, 4, 6\n",
    "x = 4\n",
    "z = 2\n",
    "print(f\"x = {x}\\ny = {y}\\nz = {z}\")"
   ]
  },
  {
   "cell_type": "code",
   "execution_count": 17,
   "metadata": {},
   "outputs": [
    {
     "name": "stdout",
     "output_type": "stream",
     "text": [
      "60\n"
     ]
    }
   ],
   "source": [
    "\"\"\"3. Variáveis de Saída\n",
    "Exercício 5: Crie duas variáveis chamadas preco e quantidade, atribua valores a elas e calcule o total (multiplicando preco por quantidade). Exiba o total no console.\n",
    "Exercício 6: Crie uma variável nome e outra sobrenome. Use essas variáveis para formar uma string que combine nome e sobrenome e exiba no console.\"\"\"\n",
    "\n",
    "preco = 10\n",
    "quant = 6\n",
    "print (preco * quant)\n"
   ]
  },
  {
   "cell_type": "code",
   "execution_count": 18,
   "metadata": {},
   "outputs": [
    {
     "name": "stdout",
     "output_type": "stream",
     "text": [
      "Anderson Abreu\n"
     ]
    }
   ],
   "source": [
    "nome = 'Anderson'\n",
    "sobrenome = 'Abreu'\n",
    "print(nome,sobrenome)"
   ]
  },
  {
   "cell_type": "code",
   "execution_count": 24,
   "metadata": {},
   "outputs": [],
   "source": [
    "\"\"\"4. Variáveis Globais\n",
    "Exercício 7: Crie uma variável global chamada contador e uma função chamada incrementar, que aumenta o valor de contador em 1. Chame a função incrementar duas vezes e depois exiba o valor de contador.\n",
    "Exercício 8: Crie uma variável global chamada saldo e uma função chamada depositar, que adiciona um valor ao saldo. Teste a função depositar e exiba o saldo após cada operação.\"\"\"\n",
    "\n",
    "def incrementar():\n",
    "    global contador\n",
    "    contador = 0\n",
    "    while contador < 2:\n",
    "        print(\"Valor do contador é:\", contador)\n",
    "        contador = contador + 1"
   ]
  },
  {
   "cell_type": "code",
   "execution_count": 25,
   "metadata": {},
   "outputs": [
    {
     "name": "stdout",
     "output_type": "stream",
     "text": [
      "Valor do contador é: 0\n",
      "Valor do contador é: 1\n"
     ]
    }
   ],
   "source": [
    "incrementar()"
   ]
  },
  {
   "cell_type": "code",
   "execution_count": 31,
   "metadata": {},
   "outputs": [],
   "source": [
    "def depositar():\n",
    "    global saldo\n",
    "    print(float(input(\"Informe um valor para o deposito: \")))\n",
    "  "
   ]
  },
  {
   "cell_type": "code",
   "execution_count": 32,
   "metadata": {},
   "outputs": [
    {
     "name": "stdout",
     "output_type": "stream",
     "text": [
      "4500.0\n"
     ]
    }
   ],
   "source": [
    "depositar()"
   ]
  },
  {
   "cell_type": "code",
   "execution_count": 47,
   "metadata": {},
   "outputs": [],
   "source": [
    "\"\"\"5. Desafio\n",
    "Exercício 9: Crie uma função chamada calcularImposto que recebe como parâmetro o valor de uma compra e retorna o valor do imposto (20% sobre o valor). \n",
    "Use essa função dentro de outra função chamada totalCompra para calcular o valor total da compra, incluindo o imposto. Exiba o valor total da compra no console.\"\"\"\n",
    "\n",
    "def calcularImposto():\n",
    " global valorcompra\n",
    " global valorimposto\n",
    " valorcompra = float(input(\"Informe o preço de um produto do supermercado: \"))\n",
    " valorimposto = (valorcompra * 20) / 100\n"
   ]
  },
  {
   "cell_type": "code",
   "execution_count": 55,
   "metadata": {},
   "outputs": [],
   "source": [
    "def totalcompra():\n",
    " totalcom = valorcompra + valorimposto\n",
    " print(f\"Valor total da compra com imposto é: R$ {totalcom}\\nvalor do imposto foi: R$ {valorimposto}\")"
   ]
  },
  {
   "cell_type": "code",
   "execution_count": 56,
   "metadata": {},
   "outputs": [],
   "source": [
    "calcularImposto()"
   ]
  },
  {
   "cell_type": "code",
   "execution_count": 57,
   "metadata": {},
   "outputs": [
    {
     "name": "stdout",
     "output_type": "stream",
     "text": [
      "Valor total da compra com imposto é: R$ 42.0\n",
      "valor do imposto foi: R$ 7.0\n"
     ]
    }
   ],
   "source": [
    "totalcompra()"
   ]
  },
  {
   "cell_type": "code",
   "execution_count": null,
   "metadata": {},
   "outputs": [],
   "source": []
  }
 ],
 "metadata": {
  "kernelspec": {
   "display_name": "consumers_env",
   "language": "python",
   "name": "python3"
  },
  "language_info": {
   "codemirror_mode": {
    "name": "ipython",
    "version": 3
   },
   "file_extension": ".py",
   "mimetype": "text/x-python",
   "name": "python",
   "nbconvert_exporter": "python",
   "pygments_lexer": "ipython3",
   "version": "3.13.1"
  }
 },
 "nbformat": 4,
 "nbformat_minor": 2
}
