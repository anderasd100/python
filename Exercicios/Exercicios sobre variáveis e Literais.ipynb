{
 "cells": [
  {
   "cell_type": "code",
   "execution_count": 10,
   "id": "38d421ed-4c06-42e9-894c-810b882b5455",
   "metadata": {},
   "outputs": [
    {
     "name": "stdout",
     "output_type": "stream",
     "text": [
      "<class 'str'>\n"
     ]
    }
   ],
   "source": [
    "nome = \"Maria\"\n",
    "print(type(nome))"
   ]
  },
  {
   "cell_type": "code",
   "execution_count": 13,
   "id": "409f6816-125a-46b3-95ab-b5d504142e20",
   "metadata": {},
   "outputs": [
    {
     "name": "stdout",
     "output_type": "stream",
     "text": [
      "<class 'str'>\n"
     ]
    }
   ],
   "source": [
    "idade = 25\n",
    "conv_idade = str(idade)\n",
    "print(type(conv_idade))"
   ]
  },
  {
   "cell_type": "code",
   "execution_count": 14,
   "id": "b914d1f0-bc9e-4b8f-aef4-a40aa07b955f",
   "metadata": {},
   "outputs": [
    {
     "name": "stdout",
     "output_type": "stream",
     "text": [
      "<class 'bool'>\n"
     ]
    }
   ],
   "source": [
    "is_adulto = True\n",
    "print(type(is_adulto))"
   ]
  },
  {
   "cell_type": "code",
   "execution_count": 15,
   "id": "276792a7-3f2a-4829-bfc5-269463d0ad43",
   "metadata": {},
   "outputs": [
    {
     "name": "stdout",
     "output_type": "stream",
     "text": [
      "<class 'float'>\n"
     ]
    }
   ],
   "source": [
    "salario = 3500.75\n",
    "print(type(salario))"
   ]
  },
  {
   "cell_type": "code",
   "execution_count": 18,
   "id": "99f8a3d5-bdb0-455d-b7d7-b6a306f3ea75",
   "metadata": {},
   "outputs": [
    {
     "name": "stdout",
     "output_type": "stream",
     "text": [
      "105\n"
     ]
    }
   ],
   "source": [
    "num = \"10\"\n",
    "print(num + \"5\")"
   ]
  },
  {
   "cell_type": "code",
   "execution_count": 25,
   "id": "815d7c6c-810d-4376-8551-e9cfbe405182",
   "metadata": {},
   "outputs": [
    {
     "name": "stdout",
     "output_type": "stream",
     "text": [
      "O valor do IMC é: 22\n"
     ]
    }
   ],
   "source": [
    "alt = 1.75\n",
    "peso = 68\n",
    "imc = peso / (alt ** 2)\n",
    "print(\"O valor do IMC é:\", + round(imc))"
   ]
  },
  {
   "cell_type": "code",
   "execution_count": 27,
   "id": "fdd422ad-f075-49fe-af3f-150cfa5fbae0",
   "metadata": {},
   "outputs": [
    {
     "name": "stdout",
     "output_type": "stream",
     "text": [
      "Maça\n"
     ]
    }
   ],
   "source": [
    "fruta = \"banana\"\n",
    "fruta =\"Maça\"\n",
    "print(fruta)"
   ]
  },
  {
   "cell_type": "code",
   "execution_count": 50,
   "id": "37ec522f-b764-4a82-a30f-62dce4db1a62",
   "metadata": {},
   "outputs": [
    {
     "name": "stdin",
     "output_type": "stream",
     "text": [
      "Informe sua Nota:  6\n"
     ]
    },
    {
     "name": "stdout",
     "output_type": "stream",
     "text": [
      "False\n"
     ]
    }
   ],
   "source": [
    "n = float(input(\"Informe sua Nota: \"))\n",
    "if n >= 7:\n",
    "    aprovado = True\n",
    "    print(aprovado)\n",
    "else:\n",
    "    reprovado = False\n",
    "    print(reprovado)"
   ]
  },
  {
   "cell_type": "code",
   "execution_count": 58,
   "id": "c20908cf-bd41-47bd-8cd6-2277b6a212ef",
   "metadata": {},
   "outputs": [
    {
     "name": "stdout",
     "output_type": "stream",
     "text": [
      "João\n"
     ]
    }
   ],
   "source": [
    "nome_completo =\"João Silva\"\n",
    "primeiro_nome = nome_completo.split()[0]\n",
    "print(primeiro_nome)"
   ]
  },
  {
   "cell_type": "code",
   "execution_count": 54,
   "id": "65c79851-e950-4710-a07f-9f8af5510ba1",
   "metadata": {},
   "outputs": [
    {
     "name": "stdout",
     "output_type": "stream",
     "text": [
      "75\n"
     ]
    }
   ],
   "source": [
    "num = 15\n",
    "num2 = 5\n",
    "mult = (num * num2)\n",
    "produto = mult\n",
    "print(produto)"
   ]
  },
  {
   "cell_type": "code",
   "execution_count": 60,
   "id": "ccc5be6a-e3ad-451e-b906-12ee11c615b6",
   "metadata": {},
   "outputs": [
    {
     "name": "stdout",
     "output_type": "stream",
     "text": [
      "Python\n"
     ]
    }
   ],
   "source": [
    "nome = \"Anderson Abreu Rabelo estudo Python\"\n",
    "terceiro = nome.split()[4]\n",
    "print(terceiro)"
   ]
  },
  {
   "cell_type": "code",
   "execution_count": 2,
   "id": "a042b4a7-975f-4b19-b3ce-fd664781307d",
   "metadata": {},
   "outputs": [
    {
     "name": "stdout",
     "output_type": "stream",
     "text": [
      "A nova idade é: 29\n"
     ]
    }
   ],
   "source": [
    "idade = 30\n",
    "idade  -= 1\n",
    "print(\"A nova idade é:\", idade)"
   ]
  },
  {
   "cell_type": "code",
   "execution_count": 5,
   "id": "55ed3aac-99c3-4b83-af7a-6f52de627ebd",
   "metadata": {},
   "outputs": [
    {
     "name": "stdout",
     "output_type": "stream",
     "text": [
      "Nome completo: LucasSouza\n"
     ]
    }
   ],
   "source": [
    "nome = \"Lucas\"\n",
    "sobrenome = \"Souza\"\n",
    "print(\"Nome completo:\", nome + sobrenome)"
   ]
  },
  {
   "cell_type": "code",
   "execution_count": 6,
   "id": "a15b9066-195c-4067-8eb0-82b8155dcecd",
   "metadata": {},
   "outputs": [
    {
     "name": "stdout",
     "output_type": "stream",
     "text": [
      "Febre\n"
     ]
    }
   ],
   "source": [
    "temp = 37.5\n",
    "if temp >= 37:\n",
    "    status = \"Febre\"\n",
    "    print(status)\n",
    "else:\n",
    "    print(\"Saudável\")"
   ]
  },
  {
   "cell_type": "code",
   "execution_count": 7,
   "id": "04f937a9-a8f6-48c5-9712-c2a81d4ab6e0",
   "metadata": {},
   "outputs": [
    {
     "name": "stdout",
     "output_type": "stream",
     "text": [
      "20\n"
     ]
    }
   ],
   "source": [
    "a = 10\n",
    "b = 20\n",
    "a = b\n",
    "print(a)"
   ]
  },
  {
   "cell_type": "code",
   "execution_count": 8,
   "id": "4a972319-bf13-4a58-8b7a-c9ed5197bfe3",
   "metadata": {},
   "outputs": [
    {
     "name": "stdout",
     "output_type": "stream",
     "text": [
      "3\n"
     ]
    }
   ],
   "source": [
    "div = 9\n",
    "div =3\n",
    "print(div)"
   ]
  },
  {
   "cell_type": "code",
   "execution_count": 10,
   "id": "a26aa170-edf1-4ecf-92aa-25c121e055cc",
   "metadata": {},
   "outputs": [
    {
     "name": "stdout",
     "output_type": "stream",
     "text": [
      "25\n"
     ]
    }
   ],
   "source": [
    "num = 100\n",
    "div = num / 4\n",
    "print(round(div))\n"
   ]
  },
  {
   "cell_type": "code",
   "execution_count": 11,
   "id": "cdb0762c-31e2-4173-8ee4-996d88464509",
   "metadata": {},
   "outputs": [
    {
     "name": "stdout",
     "output_type": "stream",
     "text": [
      "Resultado da exponenciação é: 100\n"
     ]
    }
   ],
   "source": [
    "x = 10\n",
    "y= 2\n",
    "print(\"Resultado da exponenciação é:\", x ** y)"
   ]
  },
  {
   "cell_type": "code",
   "execution_count": 12,
   "id": "ed5e0932-5dbd-4472-9c07-521b847e585c",
   "metadata": {},
   "outputs": [
    {
     "name": "stdout",
     "output_type": "stream",
     "text": [
      "Resultado da exponenciação é: 100\n"
     ]
    }
   ],
   "source": [
    "x = 10\n",
    "y= 2\n",
    "result = pow( x, y)\n",
    "print(\"Resultado da exponenciação é:\", result)"
   ]
  },
  {
   "cell_type": "code",
   "execution_count": 13,
   "id": "71ee8ac4-00cb-4e90-b7e0-e14c27069e1c",
   "metadata": {},
   "outputs": [
    {
     "name": "stdout",
     "output_type": "stream",
     "text": [
      "99\n"
     ]
    }
   ],
   "source": [
    "preco = 99.99\n",
    "conv_int = int(preco)\n",
    "print(conv_int)"
   ]
  },
  {
   "cell_type": "code",
   "execution_count": 32,
   "id": "9ce12062-970e-4f5f-9bf6-a511da14a04f",
   "metadata": {},
   "outputs": [
    {
     "name": "stdout",
     "output_type": "stream",
     "text": [
      "True\n"
     ]
    }
   ],
   "source": [
    "div = 25\n",
    "result = div % 5 == 0\n",
    "if div % 5 == 0:\n",
    "    v = True\n",
    "    print(v)\n",
    "else:\n",
    "    f = False\n",
    "    print(f)"
   ]
  },
  {
   "cell_type": "code",
   "execution_count": 36,
   "id": "e984a907-5fd7-42fb-85e6-1955f7e6a595",
   "metadata": {},
   "outputs": [
    {
     "name": "stdout",
     "output_type": "stream",
     "text": [
      "PYTHON É DIVERTIDO!!!!!!!!!!!!!!!!\n"
     ]
    }
   ],
   "source": [
    "frase = 'Python é divertido!!!!!!!!!!!!!!!!'\n",
    "mais = frase.upper()\n",
    "print(mais)\n"
   ]
  }
 ],
 "metadata": {
  "kernelspec": {
   "display_name": "Python 3 (ipykernel)",
   "language": "python",
   "name": "python3"
  },
  "language_info": {
   "codemirror_mode": {
    "name": "ipython",
    "version": 3
   },
   "file_extension": ".py",
   "mimetype": "text/x-python",
   "name": "python",
   "nbconvert_exporter": "python",
   "pygments_lexer": "ipython3",
   "version": "3.12.7"
  }
 },
 "nbformat": 4,
 "nbformat_minor": 5
}
