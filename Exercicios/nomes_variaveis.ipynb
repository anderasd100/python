{
 "cells": [
  {
   "cell_type": "code",
   "execution_count": null,
   "metadata": {},
   "outputs": [],
   "source": [
    "#Nomes de Variváeis:\n",
    "#Um nome de variável deve começar com uma letra ou o caractere de sublinhado\n",
    "#Um nome de variável não pode começar com um número\n",
    "#Um nome de variável só pode conter caracteres alfanuméricos e sublinhados (A-z, 0-9 e _ )\n",
    "#Os nomes das variáveis são sensíveis a casos (idade, Idade e IDADE são três variáveis diferentes)\n",
    "#Um nome de variável não pode ser qualquer um dos Palavras-chave Python.\n",
    "\n",
    "#Declaração de variváveis corretas:\n",
    "\n",
    "N = 'Anderson'\n",
    "my_n = 'Anderson'\n",
    "_my_n = 'Anderson'\n",
    "MyN = 'Anderson'\n",
    "MYN = 'Anderson'\n",
    "Myn77 = 'Anderson Abreu Rabelo'\n",
    "\n",
    "#Declaração de variváveis corretas erradas:\n",
    "7N = 'Anderson'\n",
    "my-n = 'Anderson'\n",
    "my n = 'Anderson'\n",
    "44 = 'Anderson'\n",
    "MYN 7 = 'Anderson'\n",
    "66jk = 'Anderson Abreu Rabelo'"
   ]
  }
 ],
 "metadata": {
  "language_info": {
   "name": "python"
  }
 },
 "nbformat": 4,
 "nbformat_minor": 2
}
