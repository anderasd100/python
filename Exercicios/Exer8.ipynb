{
 "cells": [
  {
   "cell_type": "code",
   "execution_count": null,
   "metadata": {},
   "outputs": [],
   "source": [
    "#Faca um programa que receba um numero inteiro e verifique se este numero é par ou  ımpar.\n",
    "\n",
    "\n",
    "num = int(input(\"Informe um número: \"))\n",
    "if num % 2 == 0:\n",
    "    print(\"O número é:\", num, \"PAR\")\n",
    "else:\n",
    "    print(\"O número:\", num, \"é IMPAR\")"
   ]
  }
 ],
 "metadata": {
  "language_info": {
   "name": "python"
  }
 },
 "nbformat": 4,
 "nbformat_minor": 2
}
