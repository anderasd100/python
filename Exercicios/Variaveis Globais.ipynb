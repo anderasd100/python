{
 "cells": [
  {
   "cell_type": "code",
   "execution_count": 12,
   "metadata": {},
   "outputs": [
    {
     "name": "stdout",
     "output_type": "stream",
     "text": [
      "Python is Fantastico\n",
      "Python is Anderson\n",
      "Python is Anderson\n",
      "Python is Anderson\n"
     ]
    }
   ],
   "source": [
    "#Variáveis Globais\n",
    "#Variáveis criadas fora de uma função (como em todos os exemplos nas páginas anteriores) são conhecidas como variáveis globais.\n",
    "\n",
    "#Variáveis globais podem ser usadas por todos, tanto dentro de funções e fora.\n",
    "\n",
    "#ExemploObtenha seu próprio servidor Python\n",
    "#Crie uma variável fora de uma função e use-a dentro dela\n",
    "\n",
    "dx = 'Anderson'\n",
    " \n",
    "def myfunc():\n",
    "     print(\"Python is \" + dx)\n",
    "\n",
    "     myfunc()\n",
    "\n",
    "#Crie uma variável dentro de uma função, com o mesmo nome que o global variável\n",
    "\n",
    "cx = 'Anderson'\n",
    "\n",
    "def myfun():\n",
    "     cx = 'Fantastico'\n",
    "     print('Python is ' + cx)\n",
    "\n",
    "myfun()\n",
    "print('Python is ' + cx)\n",
    "\n",
    "#Se você usar o global palavra-chave, a variável pertence ao escopo global:\n",
    "def myfun():\n",
    "     global xx\n",
    "     xx = 'Anderson'\n",
    "\n",
    "myfun()\n",
    "print('Python is ' + xx)\n",
    "\n",
    "#Para alterar o valor de uma variável global dentro de uma função, consulte variável usando o global palavra-chave:\n",
    "\n",
    "x = 'Big'\n",
    "def myfun():\n",
    "     global x\n",
    "     x = 'Anderson'\n",
    "\n",
    "myfun()\n",
    "print('Python is ' + x)"
   ]
  }
 ],
 "metadata": {
  "kernelspec": {
   "display_name": ".venv",
   "language": "python",
   "name": "python3"
  },
  "language_info": {
   "codemirror_mode": {
    "name": "ipython",
    "version": 3
   },
   "file_extension": ".py",
   "mimetype": "text/x-python",
   "name": "python",
   "nbconvert_exporter": "python",
   "pygments_lexer": "ipython3",
   "version": "3.13.1"
  }
 },
 "nbformat": 4,
 "nbformat_minor": 2
}
