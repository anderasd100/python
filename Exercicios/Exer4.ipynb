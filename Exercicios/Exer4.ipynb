{
 "cells": [
  {
   "cell_type": "code",
   "execution_count": 3,
   "metadata": {},
   "outputs": [
    {
     "name": "stdout",
     "output_type": "stream",
     "text": [
      "A soma dos números informados é:  15.0\n"
     ]
    }
   ],
   "source": [
    "#Faca um programa que receba dois numeros e mostre qual deles é o maior\n",
    "\n",
    "num1 = float(input(\"Informe o primeiro número: \"))\n",
    "num2 = float(input(\"Informe o segundo número:  \"))\n",
    "\n",
    "print(\"A soma dos números informados é: \", num1 + num2)"
   ]
  }
 ],
 "metadata": {
  "kernelspec": {
   "display_name": ".venv",
   "language": "python",
   "name": "python3"
  },
  "language_info": {
   "codemirror_mode": {
    "name": "ipython",
    "version": 3
   },
   "file_extension": ".py",
   "mimetype": "text/x-python",
   "name": "python",
   "nbconvert_exporter": "python",
   "pygments_lexer": "ipython3",
   "version": "3.13.1"
  }
 },
 "nbformat": 4,
 "nbformat_minor": 2
}
