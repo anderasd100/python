{
 "cells": [
  {
   "cell_type": "code",
   "execution_count": 1,
   "metadata": {},
   "outputs": [
    {
     "name": "stdout",
     "output_type": "stream",
     "text": [
      "A soma dos algarismos é: 6\n"
     ]
    }
   ],
   "source": [
    "# Escreva um programa que leia um numero inteiro maior do que zero e devolva, na tela, a\n",
    "# soma de todos os seus algarismos. Por exemplo, ao numero 251 corresponder a o valor\n",
    "# 8 (2 + 5 + 1). Se o numero lido nao for maior do que zero, o programa terminar a com a\n",
    "#mensagem “Numero invalido”.\n",
    "\n",
    "\n"
   ]
  }
 ],
 "metadata": {
  "kernelspec": {
   "display_name": ".venv",
   "language": "python",
   "name": "python3"
  },
  "language_info": {
   "codemirror_mode": {
    "name": "ipython",
    "version": 3
   },
   "file_extension": ".py",
   "mimetype": "text/x-python",
   "name": "python",
   "nbconvert_exporter": "python",
   "pygments_lexer": "ipython3",
   "version": "3.13.1"
  }
 },
 "nbformat": 4,
 "nbformat_minor": 2
}
