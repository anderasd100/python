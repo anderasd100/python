{
 "cells": [
  {
   "cell_type": "code",
   "execution_count": 1,
   "metadata": {},
   "outputs": [
    {
     "name": "stdout",
     "output_type": "stream",
     "text": [
      "Soma: 15\n"
     ]
    }
   ],
   "source": [
    "\"\"\"Operações com Números\n",
    "Soma de dois números: Peça ao usuário para digitar dois números e imprima a soma deles.\n",
    "\n",
    "Subtração de dois números: Solicite dois números e imprima a diferença entre eles.\n",
    "\n",
    "Multiplicação de dois números: Peça ao usuário dois números e imprima o produto entre eles.\n",
    "\n",
    "Divisão de dois números: Solicite ao usuário dois números e imprima o resultado da divisão (incluindo o quociente e o resto).\n",
    "\n",
    "Cálculo de média: Peça ao usuário três números e calcule a média aritmética deles.\n",
    "\n",
    "Conversão de unidades: Peça ao usuário uma medida em metros e converta para centímetros e milímetros.\n",
    "\n",
    "Potência de um número: Solicite ao usuário um número e calcule a potência dele elevada a um expoente fornecido pelo usuário.\n",
    "\n",
    "Raiz quadrada: Peça ao usuário um número e calcule a raiz quadrada dele.\n",
    "\n",
    "Fatorial: Solicite ao usuário um número e calcule o fatorial desse número (exemplo: 5! = 5 × 4 × 3 × 2 × 1).\n",
    "\n",
    "Operação de exponenciação: Peça ao usuário dois números e calcule a potência do primeiro número elevado ao segundo.\"\"\"\n",
    "\n",
    "\n",
    "num = int(input(\"Informe o primeiro valor: \"))\n",
    "num2 = int(input(\"Informe o segundo valor: \"))\n",
    "soma= num + num2\n",
    "print(\"Soma:\",soma)"
   ]
  },
  {
   "cell_type": "code",
   "execution_count": null,
   "metadata": {},
   "outputs": [
    {
     "name": "stdout",
     "output_type": "stream",
     "text": [
      "Soma: 60\n"
     ]
    }
   ],
   "source": [
    "num = int(input(\"Informe o primeiro valor: \"))\n",
    "num2 = int(input(\"Informe o segundo valor: \"))\n",
    "sub = num - num2\n",
    "print(\"Soma:\",sub)"
   ]
  },
  {
   "cell_type": "code",
   "execution_count": 3,
   "metadata": {},
   "outputs": [
    {
     "name": "stdout",
     "output_type": "stream",
     "text": [
      "Soma: 600\n"
     ]
    }
   ],
   "source": [
    "num = int(input(\"Informe o primeiro valor: \"))\n",
    "num2 = int(input(\"Informe o segundo valor: \"))\n",
    "mult = num * num2\n",
    "print(\"Soma:\",mult)"
   ]
  },
  {
   "cell_type": "code",
   "execution_count": null,
   "metadata": {},
   "outputs": [
    {
     "name": "stdout",
     "output_type": "stream",
     "text": [
      "Quociente: 11 \n",
      "resto da divisão: 1\n"
     ]
    }
   ],
   "source": [
    "num = int(input(\"Informe o primeiro valor: \"))\n",
    "num2 = int(input(\"Informe o segundo valor: \"))\n",
    "quociente = num // num2\n",
    "resto = num % num2\n",
    "print(\"Quociente:\",quociente,\"\\nResto da divisão:\",resto)"
   ]
  },
  {
   "cell_type": "code",
   "execution_count": null,
   "metadata": {},
   "outputs": [
    {
     "name": "stdout",
     "output_type": "stream",
     "text": [
      "Média: 107.0\n"
     ]
    }
   ],
   "source": [
    "num = int(input(\"Informe o primeiro valor: \"))\n",
    "num2 = int(input(\"Informe o segundo valor: \"))\n",
    "num3 = int(input(\"Informe o segundo valor: \"))\n",
    "media = num + num2 + num3 /3\n",
    "print(\"Média:\",media)"
   ]
  },
  {
   "cell_type": "code",
   "execution_count": null,
   "metadata": {},
   "outputs": [
    {
     "name": "stdout",
     "output_type": "stream",
     "text": [
      "A conversão para centimetros é: 5000.0 \n",
      "Para milimetros é: {milim}\n"
     ]
    }
   ],
   "source": [
    "m = float(input(\"Informe a unidade em metros: \"))\n",
    "centi = m * 100\n",
    "milim = m * 1000\n",
    "print(f\"A conversão para centimetros é: {centi}\",\"\\nPara milimetros é: {milim}\")"
   ]
  },
  {
   "cell_type": "code",
   "execution_count": 12,
   "metadata": {},
   "outputs": [
    {
     "name": "stdout",
     "output_type": "stream",
     "text": [
      "O número informado é: 100 a exponênciação dele é: 10000\n"
     ]
    }
   ],
   "source": [
    "num = int(input(\"Informe o primeiro valor: \"))\n",
    "print(\"O número informado é:\",num,\"a exponênciação dele é:\", num ** 2)"
   ]
  },
  {
   "cell_type": "code",
   "execution_count": 18,
   "metadata": {},
   "outputs": [
    {
     "name": "stdout",
     "output_type": "stream",
     "text": [
      "A raiz quadrada do número informado é: 2\n"
     ]
    }
   ],
   "source": [
    "import math\n",
    "num = int(input(\"Informe um valor para calcular a raiz quadrada:\"))\n",
    "raiz = math.sqrt(num)\n",
    "print(\"A raiz quadrada do número informado é:\",round(raiz))"
   ]
  },
  {
   "cell_type": "code",
   "execution_count": 1,
   "metadata": {},
   "outputs": [
    {
     "name": "stdout",
     "output_type": "stream",
     "text": [
      "Suco de Laranja é o meu favorito!\n"
     ]
    }
   ],
   "source": [
    "fruta = \"Laranja\"\n",
    "print(\"Suco de %s é o meu favorito!\" %fruta)"
   ]
  },
  {
   "cell_type": "code",
   "execution_count": 2,
   "metadata": {},
   "outputs": [
    {
     "name": "stdout",
     "output_type": "stream",
     "text": [
      "Meu cachorro se chama Florentina\n"
     ]
    }
   ],
   "source": [
    "texto = \"Florentina\"\n",
    "print(\"Meu cachorro se chama %s\" %texto)"
   ]
  },
  {
   "cell_type": "code",
   "execution_count": 3,
   "metadata": {},
   "outputs": [],
   "source": [
    "def parabens():\n",
    "    print(\"Parabéns Anderson!!!\")"
   ]
  },
  {
   "cell_type": "code",
   "execution_count": 4,
   "metadata": {},
   "outputs": [
    {
     "name": "stdout",
     "output_type": "stream",
     "text": [
      "Parabéns Anderson!!!\n"
     ]
    }
   ],
   "source": [
    "parabens()"
   ]
  },
  {
   "cell_type": "code",
   "execution_count": 5,
   "metadata": {},
   "outputs": [],
   "source": [
    "def temletraU():\n",
    "    frase = input(\"Digite uma frase:\")\n",
    "    if 'u' in frase:\n",
    "        print(\"A frase informada contém a letra u.\")\n",
    "    else:\n",
    "        print(\"Na frase digitada não contém a letra u.\")"
   ]
  },
  {
   "cell_type": "code",
   "execution_count": 7,
   "metadata": {},
   "outputs": [
    {
     "name": "stdout",
     "output_type": "stream",
     "text": [
      "A frase informada contém a letra u.\n"
     ]
    }
   ],
   "source": [
    "temletraU()"
   ]
  },
  {
   "cell_type": "code",
   "execution_count": 14,
   "metadata": {},
   "outputs": [],
   "source": [
    "#Operação de exponenciação: Peça ao usuário dois números e calcule a potência do primeiro número elevado ao segundo.\n",
    "\n",
    "def exponen(num,num2):\n",
    "    #num = int(input(\"Informe o primeiro número: \"))\n",
    "    #num2 = int(input(\"Informe o segundo número: \"))\n",
    "    potencia = num ** num2\n",
    "    return potencia"
   ]
  },
  {
   "cell_type": "code",
   "execution_count": 16,
   "metadata": {},
   "outputs": [
    {
     "data": {
      "text/plain": [
       "100"
      ]
     },
     "execution_count": 16,
     "metadata": {},
     "output_type": "execute_result"
    }
   ],
   "source": [
    "exponen(10,2)"
   ]
  },
  {
   "cell_type": "code",
   "execution_count": null,
   "metadata": {},
   "outputs": [],
   "source": []
  }
 ],
 "metadata": {
  "kernelspec": {
   "display_name": "Python 3",
   "language": "python",
   "name": "python3"
  },
  "language_info": {
   "codemirror_mode": {
    "name": "ipython",
    "version": 3
   },
   "file_extension": ".py",
   "mimetype": "text/x-python",
   "name": "python",
   "nbconvert_exporter": "python",
   "pygments_lexer": "ipython3",
   "version": "3.13.1"
  }
 },
 "nbformat": 4,
 "nbformat_minor": 2
}
