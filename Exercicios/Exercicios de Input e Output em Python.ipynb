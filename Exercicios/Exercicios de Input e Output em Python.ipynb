{
 "cells": [
  {
   "cell_type": "code",
   "execution_count": 2,
   "id": "1ecfcf0b-8aa9-4f6f-be50-b92fc1131043",
   "metadata": {},
   "outputs": [
    {
     "name": "stdin",
     "output_type": "stream",
     "text": [
      "Informe seu nome: Anderson\n"
     ]
    },
    {
     "name": "stdout",
     "output_type": "stream",
     "text": [
      "Olá Anderson\n"
     ]
    }
   ],
   "source": [
    "nome = str(input(\"Informe seu nome:\"))\n",
    "print(\"Olá\", nome)"
   ]
  },
  {
   "cell_type": "code",
   "execution_count": 6,
   "id": "1b8619bb-34a0-4a22-b88e-66b3949d0c2e",
   "metadata": {},
   "outputs": [
    {
     "name": "stdin",
     "output_type": "stream",
     "text": [
      "Informe um número: 1000\n",
      "Inform um segundo número: 56\n"
     ]
    },
    {
     "name": "stdout",
     "output_type": "stream",
     "text": [
      "A soma dos números informados é: 1056\n"
     ]
    }
   ],
   "source": [
    "num = float(input(\"Informe um número:\"))\n",
    "num2 = float(input(\"Inform um segundo número:\"))\n",
    "soma = num  + num2\n",
    "print(\"A soma dos números informados é:\", round(soma))"
   ]
  },
  {
   "cell_type": "code",
   "execution_count": 8,
   "id": "c42cadf9-f6c8-40f5-991a-f158f78b8c77",
   "metadata": {},
   "outputs": [
    {
     "name": "stdin",
     "output_type": "stream",
     "text": [
      "Informe uma temperatura em Celsius: 68.9\n"
     ]
    },
    {
     "name": "stdout",
     "output_type": "stream",
     "text": [
      "Temperatura em Fahrenheit é:  156.02\n"
     ]
    }
   ],
   "source": [
    "tempc = float(input(\"Informe uma temperatura em Celsius:\"))\n",
    "convfah = tempc * 9 / 5 + 32\n",
    "print(\"Temperatura em Fahrenheit é: \",convfah)"
   ]
  },
  {
   "cell_type": "code",
   "execution_count": 9,
   "id": "84f00aff-2763-44a7-8b83-a161d1550c6f",
   "metadata": {},
   "outputs": [
    {
     "name": "stdin",
     "output_type": "stream",
     "text": [
      "Informe seu nome:  Anderson\n",
      "Informe sua idade:  32\n"
     ]
    },
    {
     "name": "stdout",
     "output_type": "stream",
     "text": [
      "Olá Anderson sua idade é: 32\n"
     ]
    }
   ],
   "source": [
    "nome = str(input(\"Informe seu nome: \"))\n",
    "idade = int(input(\"Informe sua idade: \"))\n",
    "print(\"Olá\",nome,\"sua idade é:\",idade)"
   ]
  },
  {
   "cell_type": "code",
   "execution_count": 11,
   "id": "2b27af9d-366a-4fe1-b836-b721fc187279",
   "metadata": {},
   "outputs": [
    {
     "name": "stdin",
     "output_type": "stream",
     "text": [
      "Informe o comprimento do retângulo: 12\n",
      "Informe a largura do retângulo: 6\n"
     ]
    },
    {
     "name": "stdout",
     "output_type": "stream",
     "text": [
      "A área do retângulo é: 72.0\n"
     ]
    }
   ],
   "source": [
    "#Dimensões de um retângulo\n",
    "compri = float(input(\"Informe o comprimento do retângulo:\"))\n",
    "larg = float(input(\"Informe a largura do retângulo:\"))\n",
    "area = compri * larg\n",
    "print(\"A área do retângulo é:\",area)"
   ]
  },
  {
   "cell_type": "code",
   "execution_count": 28,
   "id": "d3d403e8-756c-4441-9f58-04c5f014464a",
   "metadata": {},
   "outputs": [
    {
     "name": "stdin",
     "output_type": "stream",
     "text": [
      "Informe um número:  3\n"
     ]
    },
    {
     "name": "stdout",
     "output_type": "stream",
     "text": [
      "O número: 3 é negativo!\n"
     ]
    }
   ],
   "source": [
    "numero = int(input(\"Informe um número: \"))\n",
    "if numero % 2 ==0:\n",
    "    print(\"O número:\",numero, \"é positivo!\")\n",
    "else:\n",
    "    print(\"O número:\",numero,\"é negativo!\")"
   ]
  },
  {
   "cell_type": "code",
   "execution_count": 30,
   "id": "1b877596-ab6e-4f3a-8136-54545c2ee569",
   "metadata": {},
   "outputs": [
    {
     "name": "stdout",
     "output_type": "stream",
     "text": [
      "8\n"
     ]
    }
   ],
   "source": [
    "exponenciacao = 2 ** 3\n",
    "print(exponenciacao)"
   ]
  },
  {
   "cell_type": "code",
   "execution_count": 34,
   "id": "72e843dd-a6fb-4c1a-864d-a98cb59d2a83",
   "metadata": {},
   "outputs": [
    {
     "name": "stdout",
     "output_type": "stream",
     "text": [
      "Anderson Abreu Rabelo\n"
     ]
    }
   ],
   "source": [
    "nome = \"Anderson Abreu Rabelo\"\n",
    "nome.split()\n",
    "print(nome)"
   ]
  },
  {
   "cell_type": "code",
   "execution_count": 37,
   "id": "9557d13a-411a-4a3d-9521-70cc4335051f",
   "metadata": {},
   "outputs": [
    {
     "name": "stdout",
     "output_type": "stream",
     "text": [
      "No Brasil, temos um total de 5570 municipios.\n"
     ]
    }
   ],
   "source": [
    "pais = \"Brasil\"\n",
    "municipio = 5570\n",
    "print(\"No {one}, temos um total de {two} municipios.\".format(one = pais, two = municipio))"
   ]
  },
  {
   "cell_type": "code",
   "execution_count": 39,
   "id": "086dbc53-ed8e-4217-876f-ee2a466283ff",
   "metadata": {},
   "outputs": [
    {
     "data": {
      "text/plain": [
       "['Olá mundo']"
      ]
     },
     "execution_count": 39,
     "metadata": {},
     "output_type": "execute_result"
    }
   ],
   "source": [
    "lista = [1,2,3,4,5,6, [56464,16161,16161], \"amor\", \"felicidade\",\"python\", [\"Olá mundo\"]]\n",
    "lista[10]"
   ]
  },
  {
   "cell_type": "code",
   "execution_count": 54,
   "id": "bfaaecf2-91db-4055-bc91-f4fb93555360",
   "metadata": {},
   "outputs": [
    {
     "name": "stdout",
     "output_type": "stream",
     "text": [
      "[1]\n"
     ]
    }
   ],
   "source": [
    "lista = [\"amor\",\"Olá Anderson\"]\n",
    "lista = [1]\n",
    "print(lista)"
   ]
  },
  {
   "cell_type": "code",
   "execution_count": 60,
   "id": "e2375d07-2f78-4930-8dae-b275e32b7e95",
   "metadata": {},
   "outputs": [],
   "source": [
    "def contapalavra(str, frase):\n",
    "    somador = 0\n",
    "    lista = frase.split()\n",
    "    for string in lista:\n",
    "        if string == str:\n",
    "         somador = somador + 1\n",
    "    return somador"
   ]
  },
  {
   "cell_type": "code",
   "execution_count": 65,
   "id": "414beb6b-659a-46f4-992d-3cbf1332a980",
   "metadata": {},
   "outputs": [
    {
     "data": {
      "text/plain": [
       "2"
      ]
     },
     "execution_count": 65,
     "metadata": {},
     "output_type": "execute_result"
    }
   ],
   "source": [
    "contapalavra(\"carro\",\"Gosto mais do carro verde do que do carro vermelhor\")"
   ]
  },
  {
   "cell_type": "code",
   "execution_count": 69,
   "id": "0e2a2b53-e144-4f33-868c-cec39cc0c811",
   "metadata": {},
   "outputs": [],
   "source": [
    "def condicao_filho(velocidade, tempo):\n",
    "    if velocidade > 70 and velocidade <= 110:\n",
    "        return \"Velocidade controlada\"\n",
    "    elif velocidade > 100:\n",
    "        return \"Excesso de velocidade, ligar para filho e chamar a atenção pela multa\"\n",
    "    else:\n",
    "        if tempo ==\"Chuvoso\":\n",
    "            return \"Alerta de velocidade baixa\"\n",
    "        else:\n",
    "            return \"Alerta de velocidade baixa, ligar para o filho e perguntar se houve algum problema com o carro.\""
   ]
  },
  {
   "cell_type": "code",
   "execution_count": 70,
   "id": "9d7464fc-91d7-46eb-8025-fdde5ee98210",
   "metadata": {},
   "outputs": [
    {
     "data": {
      "text/plain": [
       "'Excesso de velocidade, ligar para filho e chamar a atenção pela multa'"
      ]
     },
     "execution_count": 70,
     "metadata": {},
     "output_type": "execute_result"
    }
   ],
   "source": [
    "condicao_filho(120, \"Chuvoso\")"
   ]
  },
  {
   "cell_type": "code",
   "execution_count": 71,
   "id": "39418e7a-0780-4f38-b279-ae4ddd0253d8",
   "metadata": {},
   "outputs": [
    {
     "data": {
      "text/plain": [
       "'Excesso de velocidade, ligar para filho e chamar a atenção pela multa'"
      ]
     },
     "execution_count": 71,
     "metadata": {},
     "output_type": "execute_result"
    }
   ],
   "source": [
    "condicao_filho(450,\"Nublado\")\n"
   ]
  },
  {
   "cell_type": "code",
   "execution_count": 77,
   "id": "f095ab03-5396-4312-b336-f94cb2c5b40e",
   "metadata": {},
   "outputs": [
    {
     "name": "stdin",
     "output_type": "stream",
     "text": [
      "Informe o primeiro número: 8\n",
      "Informe o segundo número: 8\n"
     ]
    },
    {
     "name": "stdout",
     "output_type": "stream",
     "text": [
      "Quociente: 1 resto de divisão: 0\n"
     ]
    }
   ],
   "source": [
    "num1 = int(input(\"Informe o primeiro número:\"))\n",
    "num2 = int(input(\"Informe o segundo número:\"))\n",
    "quociente = num1 // num2\n",
    "resto_divisao = num1 % num2\n",
    "print(\"Quociente:\", quociente,\"resto de divisão:\",resto_divisao)"
   ]
  },
  {
   "cell_type": "code",
   "execution_count": 5,
   "id": "b6165c5e-ce2d-4320-8395-99f54bfb2304",
   "metadata": {},
   "outputs": [
    {
     "name": "stdin",
     "output_type": "stream",
     "text": [
      "Informe o primeiro número: 5\n",
      "Informe o segundo número: 10\n"
     ]
    },
    {
     "name": "stdout",
     "output_type": "stream",
     "text": [
      "Soma: 15 \n",
      "Subtração: -5 \n",
      "Divisão: 0.5 \n",
      "Multilplicação: 50\n"
     ]
    }
   ],
   "source": [
    "num = int(input(\"Informe o primeiro número:\"))\n",
    "num2 = int(input(\"Informe o segundo número:\"))\n",
    "soma = num + num2\n",
    "sub =  num - num2\n",
    "div =  num / num2\n",
    "multi = num * num2\n",
    "print(\"Soma:\",soma,\"\\nSubtração:\",sub,\"\\nDivisão:\",div,\"\\nMultilplicação:\",multi)"
   ]
  },
  {
   "cell_type": "code",
   "execution_count": 8,
   "id": "d21ae0f8-2415-4b51-97af-cb83729bace0",
   "metadata": {},
   "outputs": [
    {
     "name": "stdin",
     "output_type": "stream",
     "text": [
      "Informe o valor da base: 10\n",
      "Informe o valor da expoente: 2\n"
     ]
    },
    {
     "name": "stdout",
     "output_type": "stream",
     "text": [
      "A potência é: 100\n"
     ]
    }
   ],
   "source": [
    "base  = int(input(\"Informe o valor da base:\"))\n",
    "expo = int(input(\"Informe o valor da expoente:\"))\n",
    "potencia = base ** expo\n",
    "print(\"A potência é:\",potencia)"
   ]
  },
  {
   "cell_type": "code",
   "execution_count": 3,
   "id": "3b93bffa-dba6-461e-ba65-28efc6d2cf1b",
   "metadata": {},
   "outputs": [
    {
     "name": "stdin",
     "output_type": "stream",
     "text": [
      "Informe um número para calcular a raiz quadrada: 16\n"
     ]
    },
    {
     "name": "stdout",
     "output_type": "stream",
     "text": [
      "A raiza quadrada é: 4.0\n"
     ]
    }
   ],
   "source": [
    "import math\n",
    "\n",
    "num = int(input(\"Informe um número para calcular a raiz quadrada:\"))\n",
    "raiz = math.sqrt(num)\n",
    "print(\"A raiza quadrada é:\", raiz)"
   ]
  },
  {
   "cell_type": "code",
   "execution_count": 7,
   "id": "202b7289-49fc-4c59-846c-3fdb9401db79",
   "metadata": {},
   "outputs": [
    {
     "name": "stdin",
     "output_type": "stream",
     "text": [
      "Informe a quantidade de minutos: 125\n"
     ]
    },
    {
     "name": "stdout",
     "output_type": "stream",
     "text": [
      "A conversão dos minutos para horas é: 2.0833333333333335\n"
     ]
    }
   ],
   "source": [
    "num = float(input(\"Informe a quantidade de minutos:\"))\n",
    "horas = num / 60\n",
    "print(\"A conversão dos minutos para horas é:\", horas)"
   ]
  },
  {
   "cell_type": "code",
   "execution_count": 10,
   "id": "49cae424-f024-41f6-ba6c-79a9fa2cab44",
   "metadata": {},
   "outputs": [
    {
     "name": "stdin",
     "output_type": "stream",
     "text": [
      "Informe seu peso: 80\n",
      "Informe sua altura: 1.75\n"
     ]
    },
    {
     "name": "stdout",
     "output_type": "stream",
     "text": [
      "Seu indice de massa  46\n"
     ]
    }
   ],
   "source": [
    "peso = float(input(\"Informe seu peso:\"))\n",
    "altura = float(input(\"Informe sua altura:\"))\n",
    "imc = peso / altura\n",
    "print(\"Seu indice de massa \",round(imc))"
   ]
  },
  {
   "cell_type": "code",
   "execution_count": 13,
   "id": "8df08168-86c3-43f3-a84a-9d5dc1a4ca3a",
   "metadata": {},
   "outputs": [
    {
     "name": "stdin",
     "output_type": "stream",
     "text": [
      "Informe um número: 60\n",
      "Inform um segundo número: 5\n"
     ]
    },
    {
     "name": "stdout",
     "output_type": "stream",
     "text": [
      "O resultado da multiplicação é: 300\n"
     ]
    }
   ],
   "source": [
    "num1 = int(input(\"Informe um número:\"))\n",
    "num2 = int(input(\"Inform um segundo número:\"))\n",
    "mult = num1 * num2\n",
    "print(\"O resultado da multiplicação é:\", mult)"
   ]
  },
  {
   "cell_type": "code",
   "execution_count": 29,
   "id": "d5e25dd9-a293-47a4-8a37-b6200ea0cfd5",
   "metadata": {},
   "outputs": [],
   "source": [
    "import time\n",
    "\n",
    "def contagem_regressiva(inicio):\n",
    "      while inicio >=0:\n",
    "          print(inicio)\n",
    "          time.sleep(1)\n",
    "          inicio -= 1\n",
    "          \n",
    "          "
   ]
  },
  {
   "cell_type": "code",
   "execution_count": 32,
   "id": "4b641862-912b-410e-a14e-116d2dbdddb0",
   "metadata": {},
   "outputs": [
    {
     "name": "stdin",
     "output_type": "stream",
     "text": [
      "Informe o valor da contagem regressiva: 3\n"
     ]
    },
    {
     "name": "stdout",
     "output_type": "stream",
     "text": [
      "3\n",
      "2\n",
      "Fim da contagem!\n",
      "2\n",
      "1\n",
      "Fim da contagem!\n",
      "1\n",
      "0\n",
      "Fim da contagem!\n",
      "0\n",
      "-1\n",
      "Fim da contagem!\n"
     ]
    }
   ],
   "source": [
    "inicio = int(input(\"Informe o valor da contagem regressiva:\"))\n",
    "contagem_regressiva(inicio)\n",
    "                                                                                                                                                                                        "
   ]
  },
  {
   "cell_type": "code",
   "execution_count": 40,
   "id": "6f67b322-2e68-43a8-bc32-b43e6df4b186",
   "metadata": {},
   "outputs": [
    {
     "name": "stdin",
     "output_type": "stream",
     "text": [
      "Informe uma frase: a,knfdskijfnbhksjagfsgdsgdghdshfdhfchjfjmfgsabfjhasbfjasvbfhjasbvfjhasbvfjhaksfgasjhfgajhgfajhgfjaf\n"
     ]
    },
    {
     "name": "stdout",
     "output_type": "stream",
     "text": [
      "A frase tem: 99 caracteres!\n"
     ]
    }
   ],
   "source": [
    "frase  =str(input(\"Informe uma frase:\"))\n",
    "print(\"A frase tem:\",len(frase),\"caracteres!\")"
   ]
  },
  {
   "cell_type": "code",
   "execution_count": 41,
   "id": "ab0cc7a4-abdd-45c3-827b-c529d54e9cf4",
   "metadata": {},
   "outputs": [
    {
     "name": "stdin",
     "output_type": "stream",
     "text": [
      "Informe uma frase: Olá Irmã, beijão eu te amo!!!!!!!!!!!!!!!!!\n"
     ]
    },
    {
     "name": "stdout",
     "output_type": "stream",
     "text": [
      "A frase possui: 43 caracteres!\n"
     ]
    }
   ],
   "source": [
    "frasenew = str(input(\"Informe uma frase:\"))\n",
    "print(\"A frase possui:\",len(frasenew),\"caracteres!\")"
   ]
  },
  {
   "cell_type": "code",
   "execution_count": 43,
   "id": "c06daa3c-2782-4982-82c7-65b00454adb1",
   "metadata": {},
   "outputs": [
    {
     "name": "stdin",
     "output_type": "stream",
     "text": [
      "Digite uma frase: Eu te amo\n"
     ]
    },
    {
     "name": "stdout",
     "output_type": "stream",
     "text": [
      "A palavra invertida é: oma et uE\n"
     ]
    }
   ],
   "source": [
    "palavra = input(\"Digite uma frase:\")\n",
    "palavra_invertida = palavra[::-1]\n",
    "print(\"A palavra invertida é:\",palavra_invertida)"
   ]
  },
  {
   "cell_type": "code",
   "execution_count": 45,
   "id": "94b7d57c-3be0-46d3-8247-f949b452c496",
   "metadata": {},
   "outputs": [
    {
     "name": "stdin",
     "output_type": "stream",
     "text": [
      "Informe uma frase: Olá Anderson!!!\n"
     ]
    },
    {
     "name": "stdout",
     "output_type": "stream",
     "text": [
      "Frase invertida: !!!nosrednA álO\n"
     ]
    }
   ],
   "source": [
    "pala = input(\"Informe uma frase:\")\n",
    "pala_inve = pala[::-1]\n",
    "print(\"Frase invertida:\",pala_inve)"
   ]
  },
  {
   "cell_type": "markdown",
   "id": "0fa15968-f221-4ac1-a347-0fc2321bd3d2",
   "metadata": {},
   "source": [
    "# num = int(input(\"Informe um número:\"))\n",
    "if num % 3 == 0:\n",
    "          print(\"O número:\",num, \"é divisível por 3!\")\n",
    "else:\n",
    " print(\"O número\",num,\"não é divisível por 3!\")"
   ]
  },
  {
   "cell_type": "code",
   "execution_count": 58,
   "id": "0c8e6cb0-4828-4e45-962d-a209033a6350",
   "metadata": {},
   "outputs": [
    {
     "name": "stdin",
     "output_type": "stream",
     "text": [
      "Informe sua idade: 32\n"
     ]
    },
    {
     "name": "stdout",
     "output_type": "stream",
     "text": [
      "Você é maior de idade!\n"
     ]
    }
   ],
   "source": [
    "idade = int(input(\"Informe sua idade:\"))\n",
    "if idade >= 18:\n",
    "    print(\"Você é maior de idade!\")\n",
    "else:\n",
    "    print(\"Você é de menor!\")"
   ]
  },
  {
   "cell_type": "code",
   "execution_count": null,
   "id": "4964bff0-c0bb-4bc6-bb53-7dea89e5f965",
   "metadata": {},
   "outputs": [],
   "source": []
  }
 ],
 "metadata": {
  "kernelspec": {
   "display_name": "Python 3 (ipykernel)",
   "language": "python",
   "name": "python3"
  },
  "language_info": {
   "codemirror_mode": {
    "name": "ipython",
    "version": 3
   },
   "file_extension": ".py",
   "mimetype": "text/x-python",
   "name": "python",
   "nbconvert_exporter": "python",
   "pygments_lexer": "ipython3",
   "version": "3.12.7"
  }
 },
 "nbformat": 4,
 "nbformat_minor": 5
}
