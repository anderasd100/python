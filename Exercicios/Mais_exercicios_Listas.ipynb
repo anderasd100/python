{
 "cells": [
  {
   "cell_type": "code",
   "execution_count": null,
   "metadata": {},
   "outputs": [],
   "source": [
    "\"\"\"Operações com Listas\n",
    "Adicionar elementos a uma lista: Crie uma lista vazia e adicione cinco números a ela. Em seguida, imprima a lista.\n",
    "\n",
    "Remover um elemento de uma lista: Crie uma lista com 5 números e remova o último número.\n",
    "\n",
    "Acessar elementos de uma lista: Peça ao usuário 5 números e imprima o segundo e o quarto número da lista.\n",
    "\n",
    "Verificar a presença de um elemento: Solicite ao usuário um número e verifique se ele está presente em uma lista de números.\n",
    "\n",
    "Ordenar uma lista: Peça ao usuário para digitar 5 números e imprima a lista ordenada em ordem crescente.\n",
    "\n",
    "Soma dos elementos de uma lista: Solicite ao usuário 5 números e calcule a soma de todos os elementos dessa lista.\n",
    "\n",
    "Multiplicar todos os elementos de uma lista: Crie uma lista com 5 números e calcule o produto de todos os elementos.\n",
    "\n",
    "Contagem de ocorrências de um elemento em uma lista: Pergunte ao usuário um número e conte quantas vezes esse número aparece em uma lista.\n",
    "\n",
    "Alterar um elemento em uma lista: Crie uma lista de 5 números e altere o terceiro número para outro valor.\n",
    "\n",
    "Fatiamento de listas: Crie uma lista com 10 números e imprima os elementos do meio da lista.\"\"\""
   ]
  }
 ],
 "metadata": {
  "kernelspec": {
   "display_name": "Python 3",
   "language": "python",
   "name": "python3"
  },
  "language_info": {
   "name": "python",
   "version": "3.13.1"
  }
 },
 "nbformat": 4,
 "nbformat_minor": 2
}
